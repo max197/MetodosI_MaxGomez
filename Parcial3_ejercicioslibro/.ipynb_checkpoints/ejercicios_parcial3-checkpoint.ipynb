{
 "cells": [
  {
   "cell_type": "code",
   "execution_count": 1,
   "metadata": {},
   "outputs": [],
   "source": [
    "import numpy as np\n",
    "import sympy as sym\n",
    "import matplotlib.pyplot as plt"
   ]
  },
  {
   "cell_type": "markdown",
   "metadata": {},
   "source": [
    "Ejercicios: Álgebra lineal:\n",
    "* 1 (teorico)\n",
    "* 4 ✓\n",
    "* 5 (teorico)\n",
    "* 6 (teorico)\n",
    "* 7 ✓\n",
    "* 11 ✓\n",
    "* 12\n",
    "* 15 (sympy) ✓\n",
    "* 16 (sympy)\n",
    "* 17 ✓"
   ]
  },
  {
   "cell_type": "markdown",
   "metadata": {},
   "source": [
    "Ejercicios: Aprendizaje automático: 1,2,3"
   ]
  },
  {
   "cell_type": "markdown",
   "metadata": {},
   "source": [
    "----"
   ]
  },
  {
   "cell_type": "markdown",
   "metadata": {},
   "source": [
    "Completados:\n",
    "* 4 ✓\n",
    "* 11 ✓\n",
    "* 15 ✓\n",
    "* 17 ✓"
   ]
  },
  {
   "cell_type": "markdown",
   "metadata": {},
   "source": [
    "### **Ejercicio 4**"
   ]
  },
  {
   "cell_type": "code",
   "execution_count": 2,
   "metadata": {},
   "outputs": [],
   "source": [
    "def matrix_mult(A,B):\n",
    "    '''\n",
    "    A es una matriz nxm B es una matrix mxp\n",
    "    \n",
    "    Metodo retorna la multiplicacion matricial AB\n",
    "    \n",
    "    '''\n",
    "    n = A.shape[0]\n",
    "    m_a = A.shape[1]\n",
    "    \n",
    "    #Si B es un vector columna:\n",
    "    if B.ndim==1:\n",
    "        C = np.zeros(n)\n",
    "        for i in range(m_a):\n",
    "            #Combinacion lineal de los vectores columna de A, y los escalares siendo las entradas de B \n",
    "            C +=B[i]*A[:,i]\n",
    "        return C\n",
    "    \n",
    "    m_b = B.shape[0]\n",
    "    p = B.shape[1]\n",
    "    if m_a!=m_b:\n",
    "        print(\"Dimensiones no coinciden\")\n",
    "        return None\n",
    "    \n",
    "    C = np.zeros((n,p))\n",
    "    \n",
    "    for i in range(n):\n",
    "        for j in range(p):\n",
    "            C[i,j] = np.dot(A[i,:],B[:,j])\n",
    "    return C"
   ]
  },
  {
   "cell_type": "code",
   "execution_count": 3,
   "metadata": {},
   "outputs": [],
   "source": [
    "A = np.array([\n",
    "    [1,0,0],\n",
    "    [5,1,0],\n",
    "    [-2,3,1]\n",
    "])"
   ]
  },
  {
   "cell_type": "code",
   "execution_count": 4,
   "metadata": {},
   "outputs": [],
   "source": [
    "B = np.array([\n",
    "    [4,-2,1],\n",
    "    [0,3,7],\n",
    "    [0,0,2]\n",
    "])"
   ]
  },
  {
   "cell_type": "code",
   "execution_count": 5,
   "metadata": {},
   "outputs": [
    {
     "data": {
      "text/plain": [
       "array([[ 4., -2.,  1.],\n",
       "       [20., -7., 12.],\n",
       "       [-8., 13., 21.]])"
      ]
     },
     "execution_count": 5,
     "metadata": {},
     "output_type": "execute_result"
    }
   ],
   "source": [
    "matrix_mult(A,B)"
   ]
  },
  {
   "cell_type": "code",
   "execution_count": 6,
   "metadata": {},
   "outputs": [
    {
     "data": {
      "text/plain": [
       "array([[ 4, -2,  1],\n",
       "       [20, -7, 12],\n",
       "       [-8, 13, 21]])"
      ]
     },
     "execution_count": 6,
     "metadata": {},
     "output_type": "execute_result"
    }
   ],
   "source": [
    "#Verificacion\n",
    "A@B"
   ]
  },
  {
   "cell_type": "markdown",
   "metadata": {},
   "source": [
    "----"
   ]
  },
  {
   "cell_type": "markdown",
   "metadata": {},
   "source": [
    "### **Ejercicio 7**"
   ]
  },
  {
   "cell_type": "code",
   "execution_count": 7,
   "metadata": {},
   "outputs": [],
   "source": [
    "A = np.array([\n",
    "    [3,-1,-1],\n",
    "    [-1,3,1],\n",
    "    [2,1,4]\n",
    "])\n",
    "\n",
    "b = np.array([1,3,7])"
   ]
  },
  {
   "cell_type": "code",
   "execution_count": 8,
   "metadata": {},
   "outputs": [
    {
     "data": {
      "text/plain": [
       "array([1., 1., 1.])"
      ]
     },
     "execution_count": 8,
     "metadata": {},
     "output_type": "execute_result"
    }
   ],
   "source": [
    "np.linalg.solve(A,b)"
   ]
  },
  {
   "cell_type": "code",
   "execution_count": 9,
   "metadata": {},
   "outputs": [],
   "source": [
    "x = np.array([2,-1,3])"
   ]
  },
  {
   "cell_type": "code",
   "execution_count": 15,
   "metadata": {},
   "outputs": [],
   "source": [
    "def SOR(A,b,x,w=1,maxit=1000,tolerancia=1e-14):\n",
    "    n = A.shape[0]\n",
    "    xk = x\n",
    "    xk1 = np.zeros(len(x))\n",
    "    it = 0 \n",
    "    residuo = np.linalg.norm( np.dot(A,x) - b)\n",
    "    \n",
    "    while residuo> tolerancia and it<maxit:\n",
    "        for i in range(n):\n",
    "            xi = xk[i]\n",
    "            sum1 = 0\n",
    "            sum2 = 0\n",
    "\n",
    "            bi = b[i]\n",
    "            for j in range(i):\n",
    "                sum1 += A[i,j]*xk[j]\n",
    "            for j in range(i+1,n):\n",
    "                sum2 += A[i,j]*xk[j]\n",
    "\n",
    "            xk1[i] = (1-w)*xk[i] + (w/A[i,i])*(b[i]-sum1-sum2)\n",
    "            \n",
    "        xk = xk1\n",
    "        residuo = np.linalg.norm( np.dot(A,xk) - b)\n",
    "        it+=1\n",
    "    \n",
    "    return xk,it"
   ]
  },
  {
   "cell_type": "markdown",
   "metadata": {},
   "source": [
    "**Solucion cuando w=1 y empezando en el vector (2,-1,3)**"
   ]
  },
  {
   "cell_type": "code",
   "execution_count": 17,
   "metadata": {},
   "outputs": [
    {
     "data": {
      "text/plain": [
       "(array([1., 1., 1.]), 66)"
      ]
     },
     "execution_count": 17,
     "metadata": {},
     "output_type": "execute_result"
    }
   ],
   "source": [
    "SOR(A,b,np.array([2,-1,3]))"
   ]
  },
  {
   "cell_type": "code",
   "execution_count": 46,
   "metadata": {},
   "outputs": [
    {
     "name": "stderr",
     "output_type": "stream",
     "text": [
      "C:\\Users\\maxal\\anaconda3\\lib\\site-packages\\ipykernel_launcher.py:16: RuntimeWarning: overflow encountered in multiply\n",
      "  app.launch_new_instance()\n",
      "C:\\Users\\maxal\\anaconda3\\lib\\site-packages\\ipykernel_launcher.py:16: RuntimeWarning: overflow encountered in double_scalars\n",
      "  app.launch_new_instance()\n"
     ]
    },
    {
     "data": {
      "text/plain": [
       "Text(0, 0.5, 'Num iteraciones')"
      ]
     },
     "execution_count": 46,
     "metadata": {},
     "output_type": "execute_result"
    },
    {
     "data": {
      "image/png": "[encoded data removed]",
      "text/plain": [
       "<Figure size 720x360 with 1 Axes>"
      ]
     },
     "metadata": {
      "needs_background": "light"
     },
     "output_type": "display_data"
    }
   ],
   "source": [
    "w_l = np.linspace(0,2,1000)\n",
    "y = np.zeros(len(w_l))\n",
    "for i,w in enumerate(w_l):\n",
    "    y[i] = SOR(A,b,np.array([2,-1,3]),w)[1]\n",
    "    \n",
    "fig,ax = plt.subplots(figsize=(10,5))\n",
    "ax.scatter(w_l,y)\n",
    "ax.set_title(\"Numero de iteraciones vs parametro de relajacion\")\n",
    "ax.set_xlabel(\"w\")\n",
    "ax.set_ylabel(\"Num iteraciones\")"
   ]
  },
  {
   "cell_type": "code",
   "execution_count": 48,
   "metadata": {},
   "outputs": [
    {
     "name": "stdout",
     "output_type": "stream",
     "text": [
      "Las iteraciones se minimizan en aproximadamente w=0.987\n"
     ]
    }
   ],
   "source": [
    "print(f\"Las iteraciones se minimizan en aproximadamente w={np.round(w_l[np.argmin(y)],4)}\")"
   ]
  },
  {
   "cell_type": "markdown",
   "metadata": {},
   "source": [
    "---"
   ]
  },
  {
   "cell_type": "markdown",
   "metadata": {},
   "source": [
    "### **Ejercicio 11**"
   ]
  },
  {
   "cell_type": "code",
   "execution_count": 2,
   "metadata": {},
   "outputs": [],
   "source": [
    "A = np.array([[1,2,-1],[1,0,1],[4,-4,5]])\n",
    "#A = np.array([[2,1,0],[0,5,3],[0,0,8]])"
   ]
  },
  {
   "cell_type": "code",
   "execution_count": 3,
   "metadata": {},
   "outputs": [
    {
     "data": {
      "text/plain": [
       "array([[ 1,  2, -1],\n",
       "       [ 1,  0,  1],\n",
       "       [ 4, -4,  5]])"
      ]
     },
     "execution_count": 3,
     "metadata": {},
     "output_type": "execute_result"
    }
   ],
   "source": [
    "A"
   ]
  },
  {
   "cell_type": "code",
   "execution_count": 4,
   "metadata": {},
   "outputs": [],
   "source": [
    "B = np.linalg.inv(A)"
   ]
  },
  {
   "cell_type": "code",
   "execution_count": 5,
   "metadata": {},
   "outputs": [],
   "source": [
    "zk = np.array([1,-8,np.pi])\n",
    "i = 0\n",
    "while i<100:\n",
    "    #normalizar\n",
    "    zk = (1/np.linalg.norm(zk))*zk\n",
    "    #kesimo vector \n",
    "    zk = B@zk\n",
    "    i+=1"
   ]
  },
  {
   "cell_type": "code",
   "execution_count": 6,
   "metadata": {},
   "outputs": [
    {
     "data": {
      "text/plain": [
       "0.9999999999999991"
      ]
     },
     "execution_count": 6,
     "metadata": {},
     "output_type": "execute_result"
    }
   ],
   "source": [
    "#Los valores propios de la inversa de A son los reciprocos de los valores propios de A\n",
    "1/((zk.T@B)@zk)/np.linalg.norm(zk)**2"
   ]
  },
  {
   "cell_type": "code",
   "execution_count": 7,
   "metadata": {},
   "outputs": [
    {
     "data": {
      "text/plain": [
       "array([ 0.40824829, -0.40824829, -0.81649658])"
      ]
     },
     "execution_count": 7,
     "metadata": {},
     "output_type": "execute_result"
    }
   ],
   "source": [
    "#Si v es un vector propio de A^-1 asociado al valor propio lambda, \n",
    "#entonces v es un vector propio de A asociado al valor propio 1/lambda \n",
    "zk"
   ]
  },
  {
   "cell_type": "markdown",
   "metadata": {},
   "source": [
    "----"
   ]
  },
  {
   "cell_type": "markdown",
   "metadata": {},
   "source": [
    "### **Ejercicio 12 -Corregir**"
   ]
  },
  {
   "cell_type": "code",
   "execution_count": 49,
   "metadata": {},
   "outputs": [],
   "source": [
    "# Definamos el sistema usando una lista\n",
    "G1 = np.array([lambda x,y: np.log(x**2+y**2)-np.sin(x*y)-np.log(2)-np.log(np.pi),\n",
    "     lambda x,y: np.exp(x-y)+np.cos(x*y)])\n",
    "\n",
    "\n",
    "G2 = np.array([lambda x,y,z: 6*x-2*np.cos(y*z)-1,\n",
    "     lambda x,y,z: 9*y+np.sqrt(x**2+np.sin(z)+1.06)+0.9,\n",
    "     lambda x,y,z: 60*z+3*np.exp(-x*y)+10*np.pi-3])"
   ]
  },
  {
   "cell_type": "code",
   "execution_count": 50,
   "metadata": {},
   "outputs": [],
   "source": [
    "def GetF(G,r):\n",
    "    \n",
    "    n = r.shape[0]\n",
    "    \n",
    "    v = np.zeros_like(r)\n",
    "    \n",
    "    if n==2:\n",
    "        for i in range(n):\n",
    "            v[i] = G[i](r[0],r[1])\n",
    "    if n==3:\n",
    "        for i in range(n):\n",
    "            v[i] = G[i](r[0],r[1],r[2])\n",
    "        \n",
    "    return v"
   ]
  },
  {
   "cell_type": "code",
   "execution_count": 53,
   "metadata": {},
   "outputs": [
    {
     "data": {
      "text/plain": [
       "array([-3.        ,  1.92956301, 31.41592654])"
      ]
     },
     "execution_count": 53,
     "metadata": {},
     "output_type": "execute_result"
    }
   ],
   "source": [
    "GetF(G2,np.array([0.,0.,0.]))"
   ]
  },
  {
   "cell_type": "code",
   "execution_count": 54,
   "metadata": {},
   "outputs": [],
   "source": [
    "def GetJacobian(f,r,h=1e-6):\n",
    "    \n",
    "    n = r.shape[0]\n",
    "    \n",
    "    J = np.zeros((n,n))\n",
    "    \n",
    "    for i in range(n):\n",
    "        for j in range(n):\n",
    "            \n",
    "            rf = r.copy()\n",
    "            rb = r.copy()\n",
    "            \n",
    "            rf[j] = rf[j] + h\n",
    "            rb[j] = rb[j] - h\n",
    "            \n",
    "            if n==2:\n",
    "                J[i,j] = ( f[i](rf[0],rf[1]) - f[i](rb[0],rb[1])/(2*h))\n",
    "            if n==3:\n",
    "                J[i,j] = ( f[i](rf[0],rf[1],rf[2]) - f[i](rb[0],rb[1],rb[2])/(2*h))\n",
    "            \n",
    "    return J"
   ]
  },
  {
   "cell_type": "code",
   "execution_count": 55,
   "metadata": {},
   "outputs": [],
   "source": [
    "def NewtonRaphson(G,r,itmax=100000,error=1e-6):\n",
    "    \n",
    "    it = 0\n",
    "    d = 1.\n",
    "    dvector = []\n",
    "    \n",
    "    while d > error and it < itmax:\n",
    "        \n",
    "        # Vector actual\n",
    "        rc = r\n",
    "        \n",
    "        F = GetF(G,rc)\n",
    "        J = GetJacobian(G,rc)\n",
    "        InvJ = np.linalg.inv(J)\n",
    "        \n",
    "        r = rc - np.dot(InvJ,F)\n",
    "        \n",
    "        diff = r - rc\n",
    "        \n",
    "        d = np.max( np.abs(diff) )\n",
    "        \n",
    "        dvector.append(d)\n",
    "        #print(dvector)\n",
    "        \n",
    "        it += 1\n",
    "    \n",
    "    return r,dvector"
   ]
  },
  {
   "cell_type": "code",
   "execution_count": 69,
   "metadata": {},
   "outputs": [],
   "source": [
    "r,dvector = NewtonRaphson(G1,np.array([2.,2.]))"
   ]
  },
  {
   "cell_type": "code",
   "execution_count": 70,
   "metadata": {},
   "outputs": [
    {
     "name": "stdout",
     "output_type": "stream",
     "text": [
      "Aproximacion de la solucion: [1.96505808 2.23494257]\n",
      "Error: 2.8018621187619885e-06\n"
     ]
    }
   ],
   "source": [
    "print(f\"Aproximacion de la solucion: {r}\")\n",
    "print(f\"Error: {dvector[-1]}\")"
   ]
  },
  {
   "cell_type": "code",
   "execution_count": 71,
   "metadata": {},
   "outputs": [
    {
     "data": {
      "image/png": "[encoded data removed]",
      "text/plain": [
       "<Figure size 432x288 with 1 Axes>"
      ]
     },
     "metadata": {
      "needs_background": "light"
     },
     "output_type": "display_data"
    }
   ],
   "source": [
    "plt.plot(dvector)\n",
    "plt.yscale('log')"
   ]
  },
  {
   "cell_type": "markdown",
   "metadata": {},
   "source": [
    "---"
   ]
  },
  {
   "cell_type": "markdown",
   "metadata": {},
   "source": [
    "### **Ejercicio 15**"
   ]
  },
  {
   "cell_type": "code",
   "execution_count": 15,
   "metadata": {},
   "outputs": [],
   "source": [
    "from itertools import permutations"
   ]
  },
  {
   "cell_type": "code",
   "execution_count": 16,
   "metadata": {},
   "outputs": [],
   "source": [
    "#Generadores del grupo SU(2)\n",
    "sigmax = sym.Matrix([[0,1],[1,0]])\n",
    "sigmay = sym.Matrix([[0,-sym.I],[sym.I,0]])\n",
    "sigmaz = sym.Matrix([[1,0],[0,-1]])"
   ]
  },
  {
   "cell_type": "code",
   "execution_count": 31,
   "metadata": {},
   "outputs": [],
   "source": [
    "def levi_civita(perm):\n",
    "    '''Dada una permutacion, calcula el coeficiente Levi-Civita'''\n",
    "    if perm in [(0,1,2),(1,2,0),(2,0,1)]:\n",
    "        return 1\n",
    "    elif perm in [(2,1,0),(0,2,1),(1,0,2)]:\n",
    "        return -1\n",
    "    else:\n",
    "        return 0"
   ]
  },
  {
   "cell_type": "code",
   "execution_count": 70,
   "metadata": {},
   "outputs": [],
   "source": [
    "def conmutador(A,B,C,perm):\n",
    "    D =  A*B-B*A\n",
    "    levi = levi_civita(perm)\n",
    "    print(f\"levi = {levi}\")\n",
    "    print(f\"AB-BA = {D}\")\n",
    "    print(f\"2*i*levi*sigmak = {(2*sym.I*levi)*C}\")\n",
    "    return D == (2*sym.I*levi)*C"
   ]
  },
  {
   "cell_type": "code",
   "execution_count": 71,
   "metadata": {},
   "outputs": [],
   "source": [
    "# Define the indices\n",
    "indices = [0, 1, 2]\n",
    "permutations_3 = permutations(indices, 3)\n",
    "permutations_list = list(permutations_3)"
   ]
  },
  {
   "cell_type": "code",
   "execution_count": 72,
   "metadata": {},
   "outputs": [
    {
     "name": "stdout",
     "output_type": "stream",
     "text": [
      "------\n",
      "Permutacion: (0, 1, 2)\n",
      "levi = 1\n",
      "AB-BA = Matrix([[2*I, 0], [0, -2*I]])\n",
      "2*i*levi*sigmak = Matrix([[2*I, 0], [0, -2*I]])\n",
      "Coinciden: True\n",
      "------\n",
      "\n",
      "------\n",
      "Permutacion: (0, 2, 1)\n",
      "levi = -1\n",
      "AB-BA = Matrix([[0, -2], [2, 0]])\n",
      "2*i*levi*sigmak = Matrix([[0, -2], [2, 0]])\n",
      "Coinciden: True\n",
      "------\n",
      "\n",
      "------\n",
      "Permutacion: (1, 0, 2)\n",
      "levi = -1\n",
      "AB-BA = Matrix([[-2*I, 0], [0, 2*I]])\n",
      "2*i*levi*sigmak = Matrix([[-2*I, 0], [0, 2*I]])\n",
      "Coinciden: True\n",
      "------\n",
      "\n",
      "------\n",
      "Permutacion: (1, 2, 0)\n",
      "levi = 1\n",
      "AB-BA = Matrix([[0, 2*I], [2*I, 0]])\n",
      "2*i*levi*sigmak = Matrix([[0, 2*I], [2*I, 0]])\n",
      "Coinciden: True\n",
      "------\n",
      "\n",
      "------\n",
      "Permutacion: (2, 0, 1)\n",
      "levi = 1\n",
      "AB-BA = Matrix([[0, 2], [-2, 0]])\n",
      "2*i*levi*sigmak = Matrix([[0, 2], [-2, 0]])\n",
      "Coinciden: True\n",
      "------\n",
      "\n",
      "------\n",
      "Permutacion: (2, 1, 0)\n",
      "levi = -1\n",
      "AB-BA = Matrix([[0, -2*I], [-2*I, 0]])\n",
      "2*i*levi*sigmak = Matrix([[0, -2*I], [-2*I, 0]])\n",
      "Coinciden: True\n",
      "------\n",
      "\n"
     ]
    }
   ],
   "source": [
    "Algebra = [sigmax,sigmay,sigmaz]\n",
    "for perm in permutations_list:\n",
    "    print(\"------\")\n",
    "    print(f\"Permutacion: {perm}\")\n",
    "    print(f\"Coinciden: {conmutador(Algebra[perm[0]],Algebra[perm[1]],Algebra[perm[2]],perm)}\")\n",
    "    print(\"------\\n\")"
   ]
  },
  {
   "cell_type": "markdown",
   "metadata": {},
   "source": [
    "---"
   ]
  },
  {
   "cell_type": "markdown",
   "metadata": {},
   "source": [
    "### **Ejercicio 16 - Pendiente de aclarar**"
   ]
  },
  {
   "cell_type": "code",
   "execution_count": 114,
   "metadata": {},
   "outputs": [],
   "source": [
    "gamma0 = sym.Matrix([[1,0,0,0],[0,1,0,0],[0,0,-1,0],[0,0,0,-1]])\n",
    "gamma1 = sym.Matrix([[0,0,0,1],[0,0,1,0],[0,-1,0,0],[-1,0,0,0]])\n",
    "gamma2 = sym.Matrix([[0,0,0,-sym.I],[0,0,sym.I,0],[0,sym.I,0,0],[-sym.I,0,0,0]])\n",
    "gamma3 = sym.Matrix([[0,0,1,0],[0,0,0,-1],[-1,0,0,0],[0,1,0,0]])"
   ]
  },
  {
   "cell_type": "code",
   "execution_count": 133,
   "metadata": {},
   "outputs": [
    {
     "data": {
      "text/latex": [
       "$\\displaystyle \\left[\\begin{matrix}0 & 0 & 0 & 0\\\\0 & 0 & 0 & 0\\\\0 & 0 & 0 & 0\\\\0 & 0 & 0 & 0\\end{matrix}\\right]$"
      ],
      "text/plain": [
       "Matrix([\n",
       "[0, 0, 0, 0],\n",
       "[0, 0, 0, 0],\n",
       "[0, 0, 0, 0],\n",
       "[0, 0, 0, 0]])"
      ]
     },
     "execution_count": 133,
     "metadata": {},
     "output_type": "execute_result"
    }
   ],
   "source": [
    "gamma3*gamma0 + gamma0*gamma3"
   ]
  },
  {
   "cell_type": "code",
   "execution_count": 128,
   "metadata": {},
   "outputs": [
    {
     "data": {
      "text/latex": [
       "$\\displaystyle \\left[\\begin{matrix}0 & 0 & 0 & 0\\\\0 & 0 & 0 & 0\\\\0 & 0 & 0 & 0\\\\0 & 0 & 0 & 0\\end{matrix}\\right]$"
      ],
      "text/plain": [
       "Matrix([\n",
       "[0, 0, 0, 0],\n",
       "[0, 0, 0, 0],\n",
       "[0, 0, 0, 0],\n",
       "[0, 0, 0, 0]])"
      ]
     },
     "execution_count": 128,
     "metadata": {},
     "output_type": "execute_result"
    }
   ],
   "source": [
    "gamma3*gamma1+gamma1*gamma3"
   ]
  },
  {
   "cell_type": "markdown",
   "metadata": {},
   "source": [
    "---"
   ]
  },
  {
   "cell_type": "markdown",
   "metadata": {},
   "source": [
    "### **Ejercicio 17**"
   ]
  },
  {
   "cell_type": "code",
   "execution_count": 4,
   "metadata": {},
   "outputs": [],
   "source": [
    "x = sym.Symbol(\"x\",real=True)\n",
    "y = sym.Symbol(\"y\",real=True)\n",
    "\n",
    "z = x + sym.I*y"
   ]
  },
  {
   "cell_type": "code",
   "execution_count": 10,
   "metadata": {},
   "outputs": [],
   "source": [
    "def funcion(z):\n",
    "    return z**3-1"
   ]
  },
  {
   "cell_type": "code",
   "execution_count": 25,
   "metadata": {},
   "outputs": [],
   "source": [
    "F = np.array([sym.re(funcion(z)), sym.im(funcion(z))])"
   ]
  },
  {
   "cell_type": "code",
   "execution_count": 30,
   "metadata": {},
   "outputs": [
    {
     "data": {
      "text/latex": [
       "$\\displaystyle \\left[\\begin{matrix}3 x^{2} - 3 y^{2} & - 6 x y\\\\6 x y & 3 x^{2} - 3 y^{2}\\end{matrix}\\right]$"
      ],
      "text/plain": [
       "Matrix([\n",
       "[3*x**2 - 3*y**2,          -6*x*y],\n",
       "[          6*x*y, 3*x**2 - 3*y**2]])"
      ]
     },
     "execution_count": 30,
     "metadata": {},
     "output_type": "execute_result"
    }
   ],
   "source": [
    "J = sym.zeros(2,2)\n",
    "\n",
    "for i in range(2):\n",
    "    for j in range(2):\n",
    "        if j==0:\n",
    "            J[i,j] = sym.diff(F[i],x,1)\n",
    "        else:\n",
    "            J[i,j] = sym.diff(F[i],y,1)\n",
    "\n",
    "J #Jacobiano de la funcion F"
   ]
  },
  {
   "cell_type": "code",
   "execution_count": 43,
   "metadata": {},
   "outputs": [],
   "source": [
    "#Funcion F en numpy\n",
    "Fn = sym.lambdify([x,y],F,'numpy')\n",
    "#Jacobiano en numpy \n",
    "Jn = sym.lambdify([x,y],J, 'numpy')"
   ]
  },
  {
   "cell_type": "code",
   "execution_count": 50,
   "metadata": {},
   "outputs": [],
   "source": [
    "def newton(z,F,J,itmax= 1000, bound = 1e-7 ):\n",
    "    \n",
    "    it = 0\n",
    "    \n",
    "    zn = z\n",
    "    \n",
    "    norma = 1\n",
    "    \n",
    "    while norma > bound and it<=itmax:\n",
    "        \n",
    "        Jn_inv = np.linalg.inv(Jn(zn[0],zn[1]))\n",
    "        Fn = F(zn[0],zn[1])\n",
    "        \n",
    "        zn_1 = zn - Jn_inv@Fn\n",
    "        \n",
    "        diff = zn_1-zn\n",
    "        norma = np.linalg.norm(diff)\n",
    "        \n",
    "        zn = zn_1\n",
    "        it +=1\n",
    "        \n",
    "    \n",
    "    return zn_1\n",
    "        \n",
    "    "
   ]
  },
  {
   "cell_type": "code",
   "execution_count": 51,
   "metadata": {},
   "outputs": [
    {
     "data": {
      "text/plain": [
       "array([-0.5      ,  0.8660254])"
      ]
     },
     "execution_count": 51,
     "metadata": {},
     "output_type": "execute_result"
    }
   ],
   "source": [
    "z0 = np.array([0.5,0.5])\n",
    "newton(z0,Fn,Jn)"
   ]
  },
  {
   "cell_type": "code",
   "execution_count": 84,
   "metadata": {},
   "outputs": [],
   "source": [
    "N = 300\n",
    "x = np.linspace(-1,1,N)\n",
    "y = np.linspace(-1,1,N)\n",
    "Fractal = np.zeros((N,N),np.int64)\n",
    "Raices = np.array([\n",
    "    [-0.5,np.sqrt(3)/2],\n",
    "    [-0.5,-np.sqrt(3)/2],\n",
    "    [1,0]\n",
    "])"
   ]
  },
  {
   "cell_type": "code",
   "execution_count": 88,
   "metadata": {},
   "outputs": [],
   "source": [
    "\n",
    "\n",
    "for i in range(N):\n",
    "    for j in range(N):\n",
    "        zk = np.array([x[i],y[j]])\n",
    "        aprox = newton(zk,Fn,Jn)\n",
    "        if np.linalg.norm(Raices[0]-aprox)<1e-4:\n",
    "            Fractal[i,j]=20 \n",
    "\n",
    "        elif np.linalg.norm(Raices[1]-aprox)<1e-4:\n",
    "            Fractal[i,j] = 100\n",
    "\n",
    "        elif np.linalg.norm(Raices[2]-aprox)<1e-4:\n",
    "            Fractal[i,j] = 255\n",
    "            \n",
    "        else:\n",
    "            pass\n",
    "    "
   ]
  },
  {
   "cell_type": "code",
   "execution_count": 89,
   "metadata": {},
   "outputs": [
    {
     "data": {
      "text/plain": [
       "<matplotlib.image.AxesImage at 0x1ab769ff048>"
      ]
     },
     "execution_count": 89,
     "metadata": {},
     "output_type": "execute_result"
    },
    {
     "data": {
      "image/png": "[encoded data removed]",
      "text/plain": [
       "<Figure size 432x288 with 1 Axes>"
      ]
     },
     "metadata": {
      "needs_background": "light"
     },
     "output_type": "display_data"
    }
   ],
   "source": [
    "plt.imshow(Fractal, cmap='coolwarm' ,extent=[-1,1,-1,1])"
   ]
  },
  {
   "cell_type": "code",
   "execution_count": null,
   "metadata": {},
   "outputs": [],
   "source": []
  }
 ],
 "metadata": {
  "kernelspec": {
   "display_name": "Python 3",
   "language": "python",
   "name": "python3"
  },
  "language_info": {
   "codemirror_mode": {
    "name": "ipython",
    "version": 3
   },
   "file_extension": ".py",
   "mimetype": "text/x-python",
   "name": "python",
   "nbconvert_exporter": "python",
   "pygments_lexer": "ipython3",
   "version": "3.7.6"
  }
 },
 "nbformat": 4,
 "nbformat_minor": 4
}
