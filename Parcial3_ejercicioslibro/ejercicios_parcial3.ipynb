{
 "cells": [
  {
   "cell_type": "code",
   "execution_count": 2,
   "metadata": {},
   "outputs": [],
   "source": [
    "import numpy as np\n",
    "import sympy as sym\n",
    "import matplotlib.pyplot as plt\n",
    "from tqdm import tqdm\n",
    "import scipy.optimize as spo\n"
   ]
  },
  {
   "cell_type": "markdown",
   "metadata": {},
   "source": [
    "Ejercicios: Álgebra lineal:\n",
    "* 1 (teorico) ✓\n",
    "* 4 ✓\n",
    "* 5 (teorico) ✓\n",
    "* 6 (teorico) ✓\n",
    "* 7 ✓\n",
    "* 11 ✓\n",
    "* 12 ✓\n",
    "* 15 (sympy) ✓\n",
    "* 16 (sympy) \n",
    "* 17 ✓"
   ]
  },
  {
   "cell_type": "markdown",
   "metadata": {},
   "source": [
    "Ejercicios: Aprendizaje automático: 1,2,3\n",
    "\n",
    "* 1 ✓\n",
    "* 2 ✓\n",
    "* 3 ✓"
   ]
  },
  {
   "cell_type": "markdown",
   "metadata": {},
   "source": [
    "----"
   ]
  },
  {
   "cell_type": "markdown",
   "metadata": {},
   "source": [
    "# **Algebra Lineal**"
   ]
  },
  {
   "cell_type": "markdown",
   "metadata": {},
   "source": [
    "------"
   ]
  },
  {
   "cell_type": "markdown",
   "metadata": {},
   "source": [
    "### **Ejercicio 4**"
   ]
  },
  {
   "cell_type": "code",
   "execution_count": 5,
   "metadata": {},
   "outputs": [],
   "source": [
    "def matrix_mult(A,B):\n",
    "    '''\n",
    "    A es una matriz nxm B es una matrix mxp\n",
    "    \n",
    "    Metodo retorna la multiplicacion matricial AB\n",
    "    \n",
    "    '''\n",
    "    n = A.shape[0]\n",
    "    m_a = A.shape[1]\n",
    "    \n",
    "    #Si B es un vector columna:\n",
    "    if B.ndim==1:\n",
    "        C = np.zeros(n)\n",
    "        for i in range(m_a):\n",
    "            #Combinacion lineal de los vectores columna de A, y los escalares siendo las entradas de B \n",
    "            C +=B[i]*A[:,i]\n",
    "        return C\n",
    "    \n",
    "    m_b = B.shape[0]\n",
    "    p = B.shape[1]\n",
    "    if m_a!=m_b:\n",
    "        print(\"Dimensiones no coinciden\")\n",
    "        return None\n",
    "    \n",
    "    C = np.zeros((n,p))\n",
    "    \n",
    "    for i in range(n):\n",
    "        for j in range(p):\n",
    "            C[i,j] = np.dot(A[i,:],B[:,j])\n",
    "    return C"
   ]
  },
  {
   "cell_type": "code",
   "execution_count": 3,
   "metadata": {},
   "outputs": [],
   "source": [
    "A = np.array([\n",
    "    [1,0,0],\n",
    "    [5,1,0],\n",
    "    [-2,3,1]\n",
    "])"
   ]
  },
  {
   "cell_type": "code",
   "execution_count": 4,
   "metadata": {},
   "outputs": [],
   "source": [
    "B = np.array([\n",
    "    [4,-2,1],\n",
    "    [0,3,7],\n",
    "    [0,0,2]\n",
    "])"
   ]
  },
  {
   "cell_type": "code",
   "execution_count": 5,
   "metadata": {},
   "outputs": [
    {
     "data": {
      "text/plain": [
       "array([[ 4., -2.,  1.],\n",
       "       [20., -7., 12.],\n",
       "       [-8., 13., 21.]])"
      ]
     },
     "execution_count": 5,
     "metadata": {},
     "output_type": "execute_result"
    }
   ],
   "source": [
    "matrix_mult(A,B)"
   ]
  },
  {
   "cell_type": "code",
   "execution_count": 6,
   "metadata": {},
   "outputs": [
    {
     "data": {
      "text/plain": [
       "array([[ 4, -2,  1],\n",
       "       [20, -7, 12],\n",
       "       [-8, 13, 21]])"
      ]
     },
     "execution_count": 6,
     "metadata": {},
     "output_type": "execute_result"
    }
   ],
   "source": [
    "#Verificacion\n",
    "A@B"
   ]
  },
  {
   "cell_type": "markdown",
   "metadata": {},
   "source": [
    "----"
   ]
  },
  {
   "cell_type": "markdown",
   "metadata": {},
   "source": [
    "### **Ejercicio 7**"
   ]
  },
  {
   "cell_type": "code",
   "execution_count": 7,
   "metadata": {},
   "outputs": [],
   "source": [
    "A = np.array([\n",
    "    [3,-1,-1],\n",
    "    [-1,3,1],\n",
    "    [2,1,4]\n",
    "])\n",
    "\n",
    "b = np.array([1,3,7])"
   ]
  },
  {
   "cell_type": "code",
   "execution_count": 8,
   "metadata": {},
   "outputs": [
    {
     "data": {
      "text/plain": [
       "array([1., 1., 1.])"
      ]
     },
     "execution_count": 8,
     "metadata": {},
     "output_type": "execute_result"
    }
   ],
   "source": [
    "np.linalg.solve(A,b)"
   ]
  },
  {
   "cell_type": "code",
   "execution_count": 9,
   "metadata": {},
   "outputs": [],
   "source": [
    "x = np.array([2,-1,3])"
   ]
  },
  {
   "cell_type": "code",
   "execution_count": 15,
   "metadata": {},
   "outputs": [],
   "source": [
    "def SOR(A,b,x,w=1,maxit=1000,tolerancia=1e-14):\n",
    "    n = A.shape[0]\n",
    "    xk = x\n",
    "    xk1 = np.zeros(len(x))\n",
    "    it = 0 \n",
    "    residuo = np.linalg.norm( np.dot(A,x) - b)\n",
    "    \n",
    "    while residuo> tolerancia and it<maxit:\n",
    "        for i in range(n):\n",
    "            xi = xk[i]\n",
    "            sum1 = 0\n",
    "            sum2 = 0\n",
    "\n",
    "            bi = b[i]\n",
    "            for j in range(i):\n",
    "                sum1 += A[i,j]*xk[j]\n",
    "            for j in range(i+1,n):\n",
    "                sum2 += A[i,j]*xk[j]\n",
    "\n",
    "            xk1[i] = (1-w)*xk[i] + (w/A[i,i])*(b[i]-sum1-sum2)\n",
    "            \n",
    "        xk = xk1\n",
    "        residuo = np.linalg.norm( np.dot(A,xk) - b)\n",
    "        it+=1\n",
    "    \n",
    "    return xk,it"
   ]
  },
  {
   "cell_type": "markdown",
   "metadata": {},
   "source": [
    "**Solucion cuando w=1 y empezando en el vector (2,-1,3)**"
   ]
  },
  {
   "cell_type": "code",
   "execution_count": 17,
   "metadata": {},
   "outputs": [
    {
     "data": {
      "text/plain": [
       "(array([1., 1., 1.]), 66)"
      ]
     },
     "execution_count": 17,
     "metadata": {},
     "output_type": "execute_result"
    }
   ],
   "source": [
    "SOR(A,b,np.array([2,-1,3]))"
   ]
  },
  {
   "cell_type": "code",
   "execution_count": 46,
   "metadata": {},
   "outputs": [
    {
     "name": "stderr",
     "output_type": "stream",
     "text": [
      "C:\\Users\\maxal\\anaconda3\\lib\\site-packages\\ipykernel_launcher.py:16: RuntimeWarning: overflow encountered in multiply\n",
      "  app.launch_new_instance()\n",
      "C:\\Users\\maxal\\anaconda3\\lib\\site-packages\\ipykernel_launcher.py:16: RuntimeWarning: overflow encountered in double_scalars\n",
      "  app.launch_new_instance()\n"
     ]
    },
    {
     "data": {
      "text/plain": [
       "Text(0, 0.5, 'Num iteraciones')"
      ]
     },
     "execution_count": 46,
     "metadata": {},
     "output_type": "execute_result"
    },
    {
     "data": {
      "image/png": "[encoded data removed]",
      "text/plain": [
       "<Figure size 720x360 with 1 Axes>"
      ]
     },
     "metadata": {
      "needs_background": "light"
     },
     "output_type": "display_data"
    }
   ],
   "source": [
    "w_l = np.linspace(0,2,1000)\n",
    "y = np.zeros(len(w_l))\n",
    "for i,w in enumerate(w_l):\n",
    "    y[i] = SOR(A,b,np.array([2,-1,3]),w)[1]\n",
    "    \n",
    "fig,ax = plt.subplots(figsize=(10,5))\n",
    "ax.scatter(w_l,y)\n",
    "ax.set_title(\"Numero de iteraciones vs parametro de relajacion\")\n",
    "ax.set_xlabel(\"w\")\n",
    "ax.set_ylabel(\"Num iteraciones\")"
   ]
  },
  {
   "cell_type": "code",
   "execution_count": 48,
   "metadata": {},
   "outputs": [
    {
     "name": "stdout",
     "output_type": "stream",
     "text": [
      "Las iteraciones se minimizan en aproximadamente w=0.987\n"
     ]
    }
   ],
   "source": [
    "print(f\"Las iteraciones se minimizan en aproximadamente w={np.round(w_l[np.argmin(y)],4)}\")"
   ]
  },
  {
   "cell_type": "markdown",
   "metadata": {},
   "source": [
    "---"
   ]
  },
  {
   "cell_type": "markdown",
   "metadata": {},
   "source": [
    "### **Ejercicio 11**"
   ]
  },
  {
   "cell_type": "code",
   "execution_count": 2,
   "metadata": {},
   "outputs": [],
   "source": [
    "A = np.array([[1,2,-1],[1,0,1],[4,-4,5]])\n",
    "#A = np.array([[2,1,0],[0,5,3],[0,0,8]])"
   ]
  },
  {
   "cell_type": "code",
   "execution_count": 3,
   "metadata": {},
   "outputs": [
    {
     "data": {
      "text/plain": [
       "array([[ 1,  2, -1],\n",
       "       [ 1,  0,  1],\n",
       "       [ 4, -4,  5]])"
      ]
     },
     "execution_count": 3,
     "metadata": {},
     "output_type": "execute_result"
    }
   ],
   "source": [
    "A"
   ]
  },
  {
   "cell_type": "code",
   "execution_count": 4,
   "metadata": {},
   "outputs": [],
   "source": [
    "B = np.linalg.inv(A)"
   ]
  },
  {
   "cell_type": "code",
   "execution_count": 5,
   "metadata": {},
   "outputs": [],
   "source": [
    "zk = np.array([1,-8,np.pi])\n",
    "i = 0\n",
    "while i<100:\n",
    "    #normalizar\n",
    "    zk = (1/np.linalg.norm(zk))*zk\n",
    "    #kesimo vector \n",
    "    zk = B@zk\n",
    "    i+=1"
   ]
  },
  {
   "cell_type": "code",
   "execution_count": 6,
   "metadata": {},
   "outputs": [
    {
     "data": {
      "text/plain": [
       "0.9999999999999991"
      ]
     },
     "execution_count": 6,
     "metadata": {},
     "output_type": "execute_result"
    }
   ],
   "source": [
    "#Los valores propios de la inversa de A son los reciprocos de los valores propios de A\n",
    "1/((zk.T@B)@zk)/np.linalg.norm(zk)**2"
   ]
  },
  {
   "cell_type": "code",
   "execution_count": 7,
   "metadata": {},
   "outputs": [
    {
     "data": {
      "text/plain": [
       "array([ 0.40824829, -0.40824829, -0.81649658])"
      ]
     },
     "execution_count": 7,
     "metadata": {},
     "output_type": "execute_result"
    }
   ],
   "source": [
    "#Si v es un vector propio de A^-1 asociado al valor propio lambda, \n",
    "#entonces v es un vector propio de A asociado al valor propio 1/lambda \n",
    "zk"
   ]
  },
  {
   "cell_type": "markdown",
   "metadata": {},
   "source": [
    "----"
   ]
  },
  {
   "cell_type": "markdown",
   "metadata": {},
   "source": [
    "### **Ejercicio 12** "
   ]
  },
  {
   "cell_type": "markdown",
   "metadata": {},
   "source": [
    "$x_{n+1} = x_n - \\mathbb{J}^-1(x_n)\\mathbb{F}(x_n)$"
   ]
  },
  {
   "cell_type": "code",
   "execution_count": 82,
   "metadata": {},
   "outputs": [],
   "source": [
    "# Definamos el sistema usando una lista\n",
    "G1 = np.array([lambda x,y: np.log(x**2+y**2)-np.sin(x*y)-np.log(2)-np.log(np.pi),\n",
    "     lambda x,y: np.exp(x-y)+np.cos(x*y)])\n",
    "\n",
    "\n",
    "G2 = np.array([lambda x,y,z: 6*x-2*np.cos(y*z)-1,\n",
    "     lambda x,y,z: 9*y+np.sqrt(x**2+np.sin(z)+1.06)+0.9,\n",
    "     lambda x,y,z: 60*z+3*np.exp(-x*y)+10*np.pi-3])"
   ]
  },
  {
   "cell_type": "code",
   "execution_count": 83,
   "metadata": {},
   "outputs": [],
   "source": [
    "def GetF(G,r):\n",
    "    \n",
    "    n = r.shape[0]\n",
    "    \n",
    "    v = np.zeros_like(r)\n",
    "    \n",
    "    if n==2:\n",
    "        for i in range(n):\n",
    "            v[i] = G[i](r[0],r[1])\n",
    "    if n==3:\n",
    "        for i in range(n):\n",
    "            v[i] = G[i](r[0],r[1],r[2])\n",
    "        \n",
    "    return v"
   ]
  },
  {
   "cell_type": "code",
   "execution_count": 84,
   "metadata": {},
   "outputs": [
    {
     "data": {
      "text/plain": [
       "array([-3.        ,  1.92956301, 31.41592654])"
      ]
     },
     "execution_count": 84,
     "metadata": {},
     "output_type": "execute_result"
    }
   ],
   "source": [
    "GetF(G2,np.array([0.,0.,0.]))"
   ]
  },
  {
   "cell_type": "code",
   "execution_count": 102,
   "metadata": {},
   "outputs": [],
   "source": [
    "def GetJacobian(f,r,h=1e-6):\n",
    "    \n",
    "    n = r.shape[0]\n",
    "    \n",
    "    J = np.zeros((n,n))\n",
    "    \n",
    "    for i in range(n):\n",
    "        for j in range(n):\n",
    "            \n",
    "            rf = r.copy()\n",
    "            rb = r.copy()\n",
    "            \n",
    "            rf[j] = rf[j] + h\n",
    "            rb[j] = rb[j] - h\n",
    "\n",
    "            if n==2:\n",
    "                J[i,j] = (f[i](rf[0],rf[1]) - f[i](rb[0],rb[1]))/(2*h)\n",
    "            if n==3:\n",
    "                J[i,j] = (f[i](rf[0],rf[1],rf[2]) - f[i](rb[0],rb[1],rb[2]))/(2*h)\n",
    "            \n",
    "    return J"
   ]
  },
  {
   "cell_type": "code",
   "execution_count": 106,
   "metadata": {},
   "outputs": [],
   "source": [
    "def NewtonRaphson(G,r,itmax=100,error=1e-6):\n",
    "    \n",
    "    it = 0\n",
    "    d = 1.\n",
    "    dvector = []\n",
    "    \n",
    "    while d > error and it < itmax:\n",
    "        \n",
    "        # Vector actual\n",
    "        rc = r\n",
    "        \n",
    "        F = GetF(G,rc)\n",
    "        J = GetJacobian(G,rc)\n",
    "        InvJ = np.linalg.inv(J)\n",
    "        \n",
    "        r = rc - np.dot(InvJ,F)\n",
    "        \n",
    "        diff = r - rc\n",
    "        \n",
    "        d = np.max( np.abs(diff) )\n",
    "        \n",
    "        dvector.append(d)\n",
    "        #print(dvector)\n",
    "        \n",
    "        it += 1\n",
    "    \n",
    "    return r,dvector,it"
   ]
  },
  {
   "cell_type": "code",
   "execution_count": 107,
   "metadata": {},
   "outputs": [],
   "source": [
    "r,dvector,it = NewtonRaphson(G1,np.array([2.,2.]))"
   ]
  },
  {
   "cell_type": "code",
   "execution_count": 108,
   "metadata": {},
   "outputs": [
    {
     "name": "stdout",
     "output_type": "stream",
     "text": [
      "Aproximacion de la solucion: [1.77245385 1.77245385]\n",
      "Error: 2.167681589781978e-10\n",
      "Numero iteraciones: 6\n"
     ]
    }
   ],
   "source": [
    "print(f\"Aproximacion de la solucion: {r}\")\n",
    "print(f\"Error: {dvector[-1]}\")\n",
    "print(f\"Numero iteraciones: {it}\")"
   ]
  },
  {
   "cell_type": "code",
   "execution_count": 109,
   "metadata": {},
   "outputs": [
    {
     "data": {
      "image/png": "[encoded data removed]",
      "text/plain": [
       "<Figure size 432x288 with 1 Axes>"
      ]
     },
     "metadata": {
      "needs_background": "light"
     },
     "output_type": "display_data"
    }
   ],
   "source": [
    "plt.plot(dvector)\n",
    "plt.yscale('log')"
   ]
  },
  {
   "cell_type": "code",
   "execution_count": 110,
   "metadata": {},
   "outputs": [],
   "source": [
    "r,dvector,it = NewtonRaphson(G2,np.array([0.,0.,0.]))"
   ]
  },
  {
   "cell_type": "code",
   "execution_count": 111,
   "metadata": {},
   "outputs": [
    {
     "name": "stdout",
     "output_type": "stream",
     "text": [
      "Aproximacion de la solucion: [ 0.49814468 -0.1996059  -0.52882598]\n",
      "Error: 7.48751061152575e-12\n",
      "Numero iteraciones: 4\n"
     ]
    }
   ],
   "source": [
    "print(f\"Aproximacion de la solucion: {r}\")\n",
    "print(f\"Error: {dvector[-1]}\")\n",
    "print(f\"Numero iteraciones: {it}\")"
   ]
  },
  {
   "cell_type": "code",
   "execution_count": 112,
   "metadata": {},
   "outputs": [
    {
     "data": {
      "image/png": "[encoded data removed]",
      "text/plain": [
       "<Figure size 432x288 with 1 Axes>"
      ]
     },
     "metadata": {
      "needs_background": "light"
     },
     "output_type": "display_data"
    }
   ],
   "source": [
    "plt.plot(dvector)\n",
    "plt.yscale('log')"
   ]
  },
  {
   "cell_type": "markdown",
   "metadata": {},
   "source": [
    "---"
   ]
  },
  {
   "cell_type": "markdown",
   "metadata": {},
   "source": [
    "### **Ejercicio 15**"
   ]
  },
  {
   "cell_type": "code",
   "execution_count": 35,
   "metadata": {},
   "outputs": [],
   "source": [
    "from itertools import permutations"
   ]
  },
  {
   "cell_type": "code",
   "execution_count": 16,
   "metadata": {},
   "outputs": [],
   "source": [
    "#Generadores del grupo SU(2)\n",
    "sigmax = sym.Matrix([[0,1],[1,0]])\n",
    "sigmay = sym.Matrix([[0,-sym.I],[sym.I,0]])\n",
    "sigmaz = sym.Matrix([[1,0],[0,-1]])"
   ]
  },
  {
   "cell_type": "code",
   "execution_count": 31,
   "metadata": {},
   "outputs": [],
   "source": [
    "def levi_civita(perm):\n",
    "    '''Dada una permutacion, calcula el coeficiente Levi-Civita'''\n",
    "    if perm in [(0,1,2),(1,2,0),(2,0,1)]:\n",
    "        return 1\n",
    "    elif perm in [(2,1,0),(0,2,1),(1,0,2)]:\n",
    "        return -1\n",
    "    else:\n",
    "        return 0"
   ]
  },
  {
   "cell_type": "code",
   "execution_count": 70,
   "metadata": {},
   "outputs": [],
   "source": [
    "def conmutador(A,B,C,perm):\n",
    "    D =  A*B-B*A\n",
    "    levi = levi_civita(perm)\n",
    "    print(f\"levi = {levi}\")\n",
    "    print(f\"AB-BA = {D}\")\n",
    "    print(f\"2*i*levi*sigmak = {(2*sym.I*levi)*C}\")\n",
    "    return D == (2*sym.I*levi)*C"
   ]
  },
  {
   "cell_type": "code",
   "execution_count": 71,
   "metadata": {},
   "outputs": [],
   "source": [
    "# Define the indices\n",
    "indices = [0, 1, 2]\n",
    "permutations_3 = permutations(indices, 3)\n",
    "permutations_list = list(permutations_3)"
   ]
  },
  {
   "cell_type": "code",
   "execution_count": 72,
   "metadata": {},
   "outputs": [
    {
     "name": "stdout",
     "output_type": "stream",
     "text": [
      "------\n",
      "Permutacion: (0, 1, 2)\n",
      "levi = 1\n",
      "AB-BA = Matrix([[2*I, 0], [0, -2*I]])\n",
      "2*i*levi*sigmak = Matrix([[2*I, 0], [0, -2*I]])\n",
      "Coinciden: True\n",
      "------\n",
      "\n",
      "------\n",
      "Permutacion: (0, 2, 1)\n",
      "levi = -1\n",
      "AB-BA = Matrix([[0, -2], [2, 0]])\n",
      "2*i*levi*sigmak = Matrix([[0, -2], [2, 0]])\n",
      "Coinciden: True\n",
      "------\n",
      "\n",
      "------\n",
      "Permutacion: (1, 0, 2)\n",
      "levi = -1\n",
      "AB-BA = Matrix([[-2*I, 0], [0, 2*I]])\n",
      "2*i*levi*sigmak = Matrix([[-2*I, 0], [0, 2*I]])\n",
      "Coinciden: True\n",
      "------\n",
      "\n",
      "------\n",
      "Permutacion: (1, 2, 0)\n",
      "levi = 1\n",
      "AB-BA = Matrix([[0, 2*I], [2*I, 0]])\n",
      "2*i*levi*sigmak = Matrix([[0, 2*I], [2*I, 0]])\n",
      "Coinciden: True\n",
      "------\n",
      "\n",
      "------\n",
      "Permutacion: (2, 0, 1)\n",
      "levi = 1\n",
      "AB-BA = Matrix([[0, 2], [-2, 0]])\n",
      "2*i*levi*sigmak = Matrix([[0, 2], [-2, 0]])\n",
      "Coinciden: True\n",
      "------\n",
      "\n",
      "------\n",
      "Permutacion: (2, 1, 0)\n",
      "levi = -1\n",
      "AB-BA = Matrix([[0, -2*I], [-2*I, 0]])\n",
      "2*i*levi*sigmak = Matrix([[0, -2*I], [-2*I, 0]])\n",
      "Coinciden: True\n",
      "------\n",
      "\n"
     ]
    }
   ],
   "source": [
    "Algebra = [sigmax,sigmay,sigmaz]\n",
    "for perm in permutations_list:\n",
    "    print(\"------\")\n",
    "    print(f\"Permutacion: {perm}\")\n",
    "    print(f\"Coinciden: {conmutador(Algebra[perm[0]],Algebra[perm[1]],Algebra[perm[2]],perm)}\")\n",
    "    print(\"------\\n\")"
   ]
  },
  {
   "cell_type": "markdown",
   "metadata": {},
   "source": [
    "---"
   ]
  },
  {
   "cell_type": "markdown",
   "metadata": {},
   "source": [
    "### **Ejercicio 16 - Pendiente de aclarar**"
   ]
  },
  {
   "cell_type": "markdown",
   "metadata": {},
   "source": [
    "Verique $\\{\\gamma^\\mu,\\gamma^\\nu\\} = \\gamma^\\mu\\gamma^\\nu + \\gamma^\\nu\\gamma^\\mu = 2\\eta^{\\mu\\nu}\\mathbb{I}_{4x4}$"
   ]
  },
  {
   "cell_type": "code",
   "execution_count": 39,
   "metadata": {},
   "outputs": [],
   "source": [
    "gamma0 = sym.Matrix([[1,0,0,0],[0,1,0,0],[0,0,-1,0],[0,0,0,-1]])\n",
    "gamma1 = sym.Matrix([[0,0,0,1],[0,0,1,0],[0,-1,0,0],[-1,0,0,0]])\n",
    "gamma2 = sym.Matrix([[0,0,0,-sym.I],[0,0,sym.I,0],[0,sym.I,0,0],[-sym.I,0,0,0]])\n",
    "gamma3 = sym.Matrix([[0,0,1,0],[0,0,0,-1],[-1,0,0,0],[0,1,0,0]])\n",
    "\n",
    "eta = sym.Matrix([[1,0,0,0],[0,-1,0,0],[0,0,-1,0],[0,0,0,-1]])\n",
    "identity = sym.Matrix([[1,0,0,0],[0,1,0,0],[0,0,1,0],[0,0,0,1]])"
   ]
  },
  {
   "cell_type": "code",
   "execution_count": 49,
   "metadata": {},
   "outputs": [
    {
     "data": {
      "text/latex": [
       "$\\displaystyle \\left[\\begin{matrix}0 & 0 & - i & 0\\\\0 & 0 & 0 & - i\\\\- i & 0 & 0 & 0\\\\0 & - i & 0 & 0\\end{matrix}\\right]$"
      ],
      "text/plain": [
       "Matrix([\n",
       "[ 0,  0, -I,  0],\n",
       "[ 0,  0,  0, -I],\n",
       "[-I,  0,  0,  0],\n",
       "[ 0, -I,  0,  0]])"
      ]
     },
     "execution_count": 49,
     "metadata": {},
     "output_type": "execute_result"
    }
   ],
   "source": [
    "gamma0@gamma1@gamma2@gamma3"
   ]
  },
  {
   "cell_type": "markdown",
   "metadata": {},
   "source": [
    "---"
   ]
  },
  {
   "cell_type": "markdown",
   "metadata": {},
   "source": [
    "### **Ejercicio 17**"
   ]
  },
  {
   "cell_type": "code",
   "execution_count": 4,
   "metadata": {},
   "outputs": [],
   "source": [
    "x = sym.Symbol(\"x\",real=True)\n",
    "y = sym.Symbol(\"y\",real=True)\n",
    "\n",
    "z = x + sym.I*y"
   ]
  },
  {
   "cell_type": "code",
   "execution_count": 10,
   "metadata": {},
   "outputs": [],
   "source": [
    "def funcion(z):\n",
    "    return z**3-1"
   ]
  },
  {
   "cell_type": "code",
   "execution_count": 25,
   "metadata": {},
   "outputs": [],
   "source": [
    "F = np.array([sym.re(funcion(z)), sym.im(funcion(z))])"
   ]
  },
  {
   "cell_type": "code",
   "execution_count": 30,
   "metadata": {},
   "outputs": [
    {
     "data": {
      "text/latex": [
       "$\\displaystyle \\left[\\begin{matrix}3 x^{2} - 3 y^{2} & - 6 x y\\\\6 x y & 3 x^{2} - 3 y^{2}\\end{matrix}\\right]$"
      ],
      "text/plain": [
       "Matrix([\n",
       "[3*x**2 - 3*y**2,          -6*x*y],\n",
       "[          6*x*y, 3*x**2 - 3*y**2]])"
      ]
     },
     "execution_count": 30,
     "metadata": {},
     "output_type": "execute_result"
    }
   ],
   "source": [
    "J = sym.zeros(2,2)\n",
    "\n",
    "for i in range(2):\n",
    "    for j in range(2):\n",
    "        if j==0:\n",
    "            J[i,j] = sym.diff(F[i],x,1)\n",
    "        else:\n",
    "            J[i,j] = sym.diff(F[i],y,1)\n",
    "\n",
    "J #Jacobiano de la funcion F"
   ]
  },
  {
   "cell_type": "code",
   "execution_count": 43,
   "metadata": {},
   "outputs": [],
   "source": [
    "#Funcion F en numpy\n",
    "Fn = sym.lambdify([x,y],F,'numpy')\n",
    "#Jacobiano en numpy \n",
    "Jn = sym.lambdify([x,y],J, 'numpy')"
   ]
  },
  {
   "cell_type": "code",
   "execution_count": 50,
   "metadata": {},
   "outputs": [],
   "source": [
    "def newton(z,F,J,itmax= 1000, bound = 1e-7 ):\n",
    "    \n",
    "    it = 0\n",
    "    \n",
    "    zn = z\n",
    "    \n",
    "    norma = 1\n",
    "    \n",
    "    while norma > bound and it<=itmax:\n",
    "        \n",
    "        Jn_inv = np.linalg.inv(Jn(zn[0],zn[1]))\n",
    "        Fn = F(zn[0],zn[1])\n",
    "        \n",
    "        zn_1 = zn - Jn_inv@Fn\n",
    "        \n",
    "        diff = zn_1-zn\n",
    "        norma = np.linalg.norm(diff)\n",
    "        \n",
    "        zn = zn_1\n",
    "        it +=1\n",
    "        \n",
    "    \n",
    "    return zn_1\n",
    "        \n",
    "    "
   ]
  },
  {
   "cell_type": "code",
   "execution_count": 51,
   "metadata": {},
   "outputs": [
    {
     "data": {
      "text/plain": [
       "array([-0.5      ,  0.8660254])"
      ]
     },
     "execution_count": 51,
     "metadata": {},
     "output_type": "execute_result"
    }
   ],
   "source": [
    "z0 = np.array([0.5,0.5])\n",
    "newton(z0,Fn,Jn)"
   ]
  },
  {
   "cell_type": "code",
   "execution_count": 84,
   "metadata": {},
   "outputs": [],
   "source": [
    "N = 300\n",
    "x = np.linspace(-1,1,N)\n",
    "y = np.linspace(-1,1,N)\n",
    "Fractal = np.zeros((N,N),np.int64)\n",
    "Raices = np.array([\n",
    "    [-0.5,np.sqrt(3)/2],\n",
    "    [-0.5,-np.sqrt(3)/2],\n",
    "    [1,0]\n",
    "])"
   ]
  },
  {
   "cell_type": "code",
   "execution_count": 88,
   "metadata": {},
   "outputs": [],
   "source": [
    "\n",
    "\n",
    "for i in range(N):\n",
    "    for j in range(N):\n",
    "        zk = np.array([x[i],y[j]])\n",
    "        aprox = newton(zk,Fn,Jn)\n",
    "        if np.linalg.norm(Raices[0]-aprox)<1e-4:\n",
    "            Fractal[i,j]=20 \n",
    "\n",
    "        elif np.linalg.norm(Raices[1]-aprox)<1e-4:\n",
    "            Fractal[i,j] = 100\n",
    "\n",
    "        elif np.linalg.norm(Raices[2]-aprox)<1e-4:\n",
    "            Fractal[i,j] = 255\n",
    "            \n",
    "        else:\n",
    "            pass\n",
    "    "
   ]
  },
  {
   "cell_type": "code",
   "execution_count": 89,
   "metadata": {},
   "outputs": [
    {
     "data": {
      "text/plain": [
       "<matplotlib.image.AxesImage at 0x1ab769ff048>"
      ]
     },
     "execution_count": 89,
     "metadata": {},
     "output_type": "execute_result"
    },
    {
     "data": {
      "image/png": "[encoded data removed]",
      "text/plain": [
       "<Figure size 432x288 with 1 Axes>"
      ]
     },
     "metadata": {
      "needs_background": "light"
     },
     "output_type": "display_data"
    }
   ],
   "source": [
    "plt.imshow(Fractal, cmap='coolwarm' ,extent=[-1,1,-1,1])"
   ]
  },
  {
   "cell_type": "markdown",
   "metadata": {},
   "source": [
    "----"
   ]
  },
  {
   "cell_type": "markdown",
   "metadata": {},
   "source": [
    "# **Aprendizaje Automatico**"
   ]
  },
  {
   "cell_type": "markdown",
   "metadata": {},
   "source": [
    "------"
   ]
  },
  {
   "cell_type": "markdown",
   "metadata": {},
   "source": [
    "### **Ejercicio 1**"
   ]
  },
  {
   "cell_type": "markdown",
   "metadata": {},
   "source": [
    "$f(x,y) = x^2-y^2+2x$\n",
    "\n",
    "$\\nabla f(x) = (2x+2,-2y)$\n"
   ]
  },
  {
   "cell_type": "code",
   "execution_count": 5,
   "metadata": {},
   "outputs": [],
   "source": [
    "def f(x,y):\n",
    "    return x**2-y**2+2*x  "
   ]
  },
  {
   "cell_type": "code",
   "execution_count": 6,
   "metadata": {},
   "outputs": [],
   "source": [
    "#Derivadas parciales\n",
    "Dx = lambda x,y,h=1e-5: (f(x+h,y) - f(x-h,y))/(2*h)\n",
    "Dy = lambda x,y,h=1e-5: (f(x,y+h) - f(x,y-h))/(2*h)\n",
    "#Gradiente\n",
    "D = lambda x,y: np.array([Dx(x,y),Dy(x,y)])\n",
    "\n",
    "#Gradiente de f en el punto (1,1)\n",
    "x0=y0=1\n",
    "grad = D(x0,y0)"
   ]
  },
  {
   "cell_type": "code",
   "execution_count": 7,
   "metadata": {},
   "outputs": [],
   "source": [
    "#Plano tangente en el punto (1,1)\n",
    "def tanplane(x,y,grad):\n",
    "    return grad[0]*(x - 1) + grad[1]*(y - 1) + f(1,1)"
   ]
  },
  {
   "cell_type": "code",
   "execution_count": 18,
   "metadata": {},
   "outputs": [],
   "source": [
    "N = 100\n",
    "x = np.linspace(-1,3,N)\n",
    "y = np.linspace(-1,3,N)\n",
    "\n",
    "# Create a grid of x and y values\n",
    "X, Y = np.meshgrid(x, y)\n",
    "\n",
    "Z = f(X, Y)\n",
    "tangent_plane = tanplane(X,Y,grad)"
   ]
  },
  {
   "cell_type": "code",
   "execution_count": 27,
   "metadata": {},
   "outputs": [
    {
     "data": {
      "image/png": "[encoded data removed]",
      "text/plain": [
       "<Figure size 720x720 with 1 Axes>"
      ]
     },
     "metadata": {
      "needs_background": "light"
     },
     "output_type": "display_data"
    }
   ],
   "source": [
    "fig = plt.figure(figsize=(10,10))\n",
    "ax = fig.add_subplot(projection='3d')\n",
    "\n",
    "# Plot the surface\n",
    "ax.scatter(1,1,2, color='blue', s=100,alpha=1)\n",
    "ax.plot_surface(X, Y, Z, cmap='viridis',alpha=1)\n",
    "ax.plot_surface(X, Y, tangent_plane, color='r', alpha=0.5)\n",
    "\n",
    "\n",
    "# Add labels and title\n",
    "ax.set_xlabel('X')\n",
    "ax.set_ylabel('Y')\n",
    "ax.set_zlabel('Z')\n",
    "\n",
    "# Display the plot\n",
    "plt.show()"
   ]
  },
  {
   "cell_type": "markdown",
   "metadata": {},
   "source": [
    "---"
   ]
  },
  {
   "cell_type": "markdown",
   "metadata": {},
   "source": [
    "### **Ejercicio 2**"
   ]
  },
  {
   "cell_type": "code",
   "execution_count": 3,
   "metadata": {},
   "outputs": [],
   "source": [
    "def f(x):\n",
    "    return x[0]**4 + x[1]**4 - 2*(x[0]-x[1])**2"
   ]
  },
  {
   "cell_type": "code",
   "execution_count": 69,
   "metadata": {},
   "outputs": [
    {
     "name": "stdout",
     "output_type": "stream",
     "text": [
      "El minimo con scipy es:[-1.41421384  1.41421326]\n"
     ]
    }
   ],
   "source": [
    "x0 = [0.,3.]\n",
    "result = spo.minimize(f,x0)\n",
    "scipy_minimum = result.x\n",
    "print(f\"El minimo con scipy es:{scipy_minimum}\")"
   ]
  },
  {
   "cell_type": "markdown",
   "metadata": {},
   "source": [
    "Nuestros metodos:"
   ]
  },
  {
   "cell_type": "code",
   "execution_count": 12,
   "metadata": {},
   "outputs": [],
   "source": [
    "def f2(x,y):\n",
    "    return x**4 + y**4 - 2*(x-y)**2"
   ]
  },
  {
   "cell_type": "code",
   "execution_count": 13,
   "metadata": {},
   "outputs": [],
   "source": [
    "Dx = lambda f,x,y,h=1e-5: (f(x+h,y) - f(x-h,y))/(2*h)\n",
    "Dy = lambda f,x,y,h=1e-5: (f(x,y+h) - f(x,y-h))/(2*h)\n",
    "\n",
    "Gradient = lambda f,x,y: np.array([Dx(f,x,y),Dy(f,x,y)])"
   ]
  },
  {
   "cell_type": "code",
   "execution_count": 14,
   "metadata": {},
   "outputs": [],
   "source": [
    "def MomentumAlg(f,seed = np.array([0.,3.]),N = 200, gamma = 0.001,mcoeff = 0.6):\n",
    "    '''\n",
    "    Algoritmo de momentum\n",
    "    \n",
    "    mcoeff: momentum coefficient\n",
    "    \n",
    "    '''\n",
    "    r = np.zeros((N,2))\n",
    "\n",
    "    r[0] = seed\n",
    "    r[1] = r[0].copy()\n",
    "    r[2] = r[0].copy()\n",
    "    \n",
    "    Grad = np.zeros((N,2))\n",
    "    Grad[0] = Gradient(f,r[0,0],r[0,1])\n",
    "    \n",
    "    \n",
    "    it = 0\n",
    "    \n",
    "    for i in tqdm(range(3,N)):\n",
    "        \n",
    "        r[i] = r[i-1] - gamma*Gradient(f,r[i-1,0],r[i-1,1]) + mcoeff*(r[i-2]-r[i-3])\n",
    "        \n",
    "        Grad[i] = Gradient(f,r[i-1,0],r[i-1,1])\n",
    "             \n",
    "    return r,Grad"
   ]
  },
  {
   "cell_type": "code",
   "execution_count": 18,
   "metadata": {},
   "outputs": [],
   "source": [
    "def gradient_desc(f,seed =np.array([0.,3.]) , N = 200, gamma = 0.001):\n",
    "    \n",
    "    r = np.zeros((N,2))\n",
    "    r[0] = seed\n",
    "    \n",
    "    Grad = np.zeros((N,2))\n",
    "    Grad[0] = Gradient(f,r[0,0],r[0,1])\n",
    "    \n",
    "    # We save the gradient in each step\n",
    "\n",
    "    for i in tqdm(range(1,N)):\n",
    "        r[i] = r[i-1] - gamma*Gradient(f,r[i-1,0],r[i-1,1])\n",
    "        Grad[i] = Gradient(f,r[i-1,0],r[i-1,1])\n",
    "        \n",
    "        \n",
    "    return r,Grad"
   ]
  },
  {
   "cell_type": "code",
   "execution_count": 19,
   "metadata": {},
   "outputs": [
    {
     "name": "stderr",
     "output_type": "stream",
     "text": [
      "100%|█████████████████████████████████████████████████████████████████████████████| 197/197 [00:00<00:00, 15318.75it/s]\n",
      "100%|█████████████████████████████████████████████████████████████████████████████| 199/199 [00:00<00:00, 16927.95it/s]\n"
     ]
    }
   ],
   "source": [
    "r0,Grad0 = MomentumAlg(f2)\n",
    "r1,Grad1 = gradient_desc(f2)"
   ]
  },
  {
   "cell_type": "code",
   "execution_count": 73,
   "metadata": {},
   "outputs": [
    {
     "name": "stdout",
     "output_type": "stream",
     "text": [
      "Solucion aprox de Alg Momentum: [-1.4136188   1.41362569]\n",
      "Solucion aprox de Descenso Gradiente: [-1.26360879  1.35959654]\n"
     ]
    }
   ],
   "source": [
    "print(f\"Solucion aprox de Alg Momentum: {r0[-1]}\")\n",
    "print(f\"Solucion aprox de Descenso Gradiente: {r1[-1]}\")"
   ]
  },
  {
   "cell_type": "code",
   "execution_count": 40,
   "metadata": {},
   "outputs": [],
   "source": [
    "x = np.array([i for i in range(0,200)])\n",
    "\n",
    "y0 = np.linalg.norm(scipy_minimum-r0,axis=1)\n",
    "y1 = np.linalg.norm(scipy_minimum-r1,axis=1)"
   ]
  },
  {
   "cell_type": "code",
   "execution_count": 68,
   "metadata": {},
   "outputs": [
    {
     "data": {
      "text/plain": [
       "<matplotlib.legend.Legend at 0x17812adde88>"
      ]
     },
     "execution_count": 68,
     "metadata": {},
     "output_type": "execute_result"
    },
    {
     "data": {
      "image/png": "[encoded data removed]",
      "text/plain": [
       "<Figure size 1080x360 with 1 Axes>"
      ]
     },
     "metadata": {
      "needs_background": "light"
     },
     "output_type": "display_data"
    }
   ],
   "source": [
    "fig,ax = plt.subplots(figsize=(15,5))\n",
    "ax.scatter(x,y0,color= \"cyan\",label = \"Momentum algorithm\")\n",
    "ax.scatter(x,y1,color = \"black\",label = \"Classical Gradient Descent\")\n",
    "\n",
    "ax.set_title(\"Convergencia Momentum Algorithm vs Classical Gradient Descent\")\n",
    "ax.set_xlabel(\"Iteration\")\n",
    "ax.set_ylabel(\"Norma de vk - vsol\")\n",
    "ax.legend(loc='upper center')\n"
   ]
  },
  {
   "cell_type": "markdown",
   "metadata": {},
   "source": [
    "Con un valor del coeficiente de momentum de 0.6, el algoritmo de momentum converge más del doble de rápido que el descenso del gradiente clásico."
   ]
  },
  {
   "cell_type": "markdown",
   "metadata": {},
   "source": [
    "---"
   ]
  },
  {
   "cell_type": "markdown",
   "metadata": {},
   "source": [
    "### **Ejercicio 3**"
   ]
  },
  {
   "cell_type": "markdown",
   "metadata": {},
   "source": [
    "En teoría la funcion $|x-2|$ no es diferenciable en el mínimo ($x=2$)"
   ]
  },
  {
   "cell_type": "code",
   "execution_count": 74,
   "metadata": {},
   "outputs": [],
   "source": [
    "def funcion(x):\n",
    "    return np.abs(x-2)"
   ]
  },
  {
   "cell_type": "code",
   "execution_count": 75,
   "metadata": {},
   "outputs": [],
   "source": [
    "Dx = lambda f,x,h=1e-5: (f(x+h) - f(x-h))/(2*h)"
   ]
  },
  {
   "cell_type": "code",
   "execution_count": 76,
   "metadata": {},
   "outputs": [],
   "source": [
    "def Minimizer(f, N=300, gamma=0.01):\n",
    "    \n",
    "    r = np.zeros(N)\n",
    "    \n",
    "    r[0] = np.random.uniform(0,4)\n",
    "    \n",
    "    for i in tqdm(range(1,N)):\n",
    "        r[i] = r[i-1] - gamma*Dx(f,r[i-1])\n",
    "        \n",
    "    return r"
   ]
  },
  {
   "cell_type": "code",
   "execution_count": 77,
   "metadata": {},
   "outputs": [
    {
     "name": "stderr",
     "output_type": "stream",
     "text": [
      "100%|█████████████████████████████████████████████████████████████████████████████| 299/299 [00:00<00:00, 69633.36it/s]\n"
     ]
    }
   ],
   "source": [
    "x = Minimizer(funcion)"
   ]
  },
  {
   "cell_type": "code",
   "execution_count": 79,
   "metadata": {},
   "outputs": [
    {
     "name": "stdout",
     "output_type": "stream",
     "text": [
      "El minimo se obtuvo en: x = 2.0050525252946425\n"
     ]
    }
   ],
   "source": [
    "print(f\"El minimo se obtuvo en: x = {x[-1]}\")"
   ]
  }
 ],
 "metadata": {
  "kernelspec": {
   "display_name": "Python 3",
   "language": "python",
   "name": "python3"
  },
  "language_info": {
   "codemirror_mode": {
    "name": "ipython",
    "version": 3
   },
   "file_extension": ".py",
   "mimetype": "text/x-python",
   "name": "python",
   "nbconvert_exporter": "python",
   "pygments_lexer": "ipython3",
   "version": "3.7.6"
  }
 },
 "nbformat": 4,
 "nbformat_minor": 4
}
