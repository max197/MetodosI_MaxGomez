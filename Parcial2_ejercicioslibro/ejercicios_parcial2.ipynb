{
 "cells": [
  {
   "cell_type": "code",
   "execution_count": 1,
   "metadata": {},
   "outputs": [
    {
     "data": {
      "text/html": [
       "<style>.container { width:100% !important; }</style>"
      ],
      "text/plain": [
       "<IPython.core.display.HTML object>"
      ]
     },
     "metadata": {},
     "output_type": "display_data"
    }
   ],
   "source": [
    "import cuadraturas\n",
    "import Integrals\n",
    "import numpy as np\n",
    "import sympy as sym\n",
    "import matplotlib.pyplot as plt\n",
    "from mpl_toolkits.mplot3d import axes3d"
   ]
  },
  {
   "cell_type": "markdown",
   "metadata": {},
   "source": [
    "## Completados:"
   ]
  },
  {
   "cell_type": "markdown",
   "metadata": {},
   "source": [
    "6, 10, 7, 17, 18"
   ]
  },
  {
   "cell_type": "markdown",
   "metadata": {},
   "source": [
    "## Revisar:"
   ]
  },
  {
   "cell_type": "markdown",
   "metadata": {},
   "source": [
    "19"
   ]
  },
  {
   "cell_type": "markdown",
   "metadata": {},
   "source": [
    "## Completar"
   ]
  },
  {
   "cell_type": "markdown",
   "metadata": {},
   "source": [
    "3,5,19"
   ]
  },
  {
   "cell_type": "markdown",
   "metadata": {},
   "source": [
    "----"
   ]
  },
  {
   "cell_type": "markdown",
   "metadata": {},
   "source": [
    "Problemas parcial 2\n",
    "\n",
    "Ejercicios: Raíces de polinomios 5\n",
    "\n",
    "Ejercicios: Integración: 1,3,6,7,10,17,18,19\n",
    "\n",
    "Teoricos:\n",
    "* 1\n",
    "* 3\n",
    "\n",
    "Computacionales:\n",
    "* 10 (Sympy)\n",
    "* 17 (Gauss-Laguerre)\n",
    "* 18 (Gauss Hermite)\n",
    "* 19 (Gauss Legendre)"
   ]
  },
  {
   "cell_type": "markdown",
   "metadata": {},
   "source": [
    "# **Raices de polinomios**"
   ]
  },
  {
   "cell_type": "markdown",
   "metadata": {},
   "source": [
    "### **Ejercicio 5**"
   ]
  },
  {
   "cell_type": "code",
   "execution_count": null,
   "metadata": {},
   "outputs": [],
   "source": [
    "cuadraturas.Get"
   ]
  },
  {
   "cell_type": "markdown",
   "metadata": {},
   "source": [
    "# **Integracion**"
   ]
  },
  {
   "cell_type": "markdown",
   "metadata": {},
   "source": [
    "### **Ejercicio 1**"
   ]
  },
  {
   "cell_type": "markdown",
   "metadata": {},
   "source": [
    "$I = \\int_a^b f(x)dx \\cong \\int_a^b p_1(x)dx = \\frac{b-a}{2}(f(a)+f(b))$"
   ]
  },
  {
   "cell_type": "markdown",
   "metadata": {},
   "source": [
    "Dem: \n",
    "\n",
    "Sabemos que $f(x)\\cong p_1(x) = \\frac{x-b}{a-b}f(a) + \\frac{x-a}{b-a}f(b), \\forall x\\in [a,b]$ (inteporlación de legendre con soporte de dos elementos).\n",
    "\n",
    "Entonces "
   ]
  },
  {
   "cell_type": "markdown",
   "metadata": {},
   "source": [
    "\\begin{equation}\n",
    "\\begin{split}\n",
    "\\int_a^b f(x)dx \\cong \\int_a^b p_1(x)dx &= \\frac{f(a)}{a-b}\\big(\\frac{b^2}{2}-\\frac{a^2}{2}-b^2+ab\\big) +\\frac{f(b)}{b-a}\\big(\\frac{b^2}{2}-\\frac{a^2}{2}-ab+a^2\\big) \\\\\n",
    " & = \\frac{f(a)}{b-a}\\big(ab-\\frac{b^2}{2}-\\frac{a^2}{2}\\big) + \\frac{f(b)}{b-a}\\big(\\frac{b^2}{2}+\\frac{a^2}{2}-ab\\big) \\\\\n",
    " &=\\frac{f(a)}{b-a}\\big(\\frac{1}{2}(b-a)^2\\big)+\\frac{f(b)}{b-a}\\big(\\frac{1}{2}(b-a)^2\\big) \\\\\n",
    " &= \\frac{(b-a)^2}{2(b-a)}\\big(f(a)+f(b)\\big) \\\\\n",
    " &= \\frac{b-a}{2}\\big(f(a)+f(b)\\big)\n",
    "\\end{split}\n",
    "\\end{equation}"
   ]
  },
  {
   "cell_type": "markdown",
   "metadata": {},
   "source": [
    "### **Ejercicio 3**"
   ]
  },
  {
   "cell_type": "code",
   "execution_count": null,
   "metadata": {},
   "outputs": [],
   "source": []
  },
  {
   "cell_type": "markdown",
   "metadata": {},
   "source": [
    "### **Ejercicio 6**"
   ]
  },
  {
   "cell_type": "code",
   "execution_count": 2,
   "metadata": {},
   "outputs": [],
   "source": [
    "import Integrals"
   ]
  },
  {
   "cell_type": "code",
   "execution_count": 3,
   "metadata": {},
   "outputs": [],
   "source": [
    "def funcion(x):\n",
    "    R = 0.5\n",
    "    a = 0.01\n",
    "    numerador = np.sqrt((a**2)-(x**2))\n",
    "    denominador = R+x\n",
    "    return numerador/denominador"
   ]
  },
  {
   "cell_type": "code",
   "execution_count": 4,
   "metadata": {},
   "outputs": [],
   "source": [
    "N = 100\n",
    "a = 0.01\n",
    "x = np.linspace(-0.01,0.01,N)\n",
    "y = funcion(x)\n",
    "f = funcion"
   ]
  },
  {
   "cell_type": "code",
   "execution_count": 5,
   "metadata": {},
   "outputs": [],
   "source": [
    "Simpson = Integrals.Simpson(x,f)"
   ]
  },
  {
   "cell_type": "code",
   "execution_count": 6,
   "metadata": {},
   "outputs": [
    {
     "name": "stdout",
     "output_type": "stream",
     "text": [
      "Valor analitico de la integral: 0.0003141906875702543\n"
     ]
    }
   ],
   "source": [
    "anvalue = np.pi*(0.5-np.sqrt((0.5**2)-(a**2)))\n",
    "print(f\"Valor analitico de la integral: {anvalue}\")"
   ]
  },
  {
   "cell_type": "code",
   "execution_count": 7,
   "metadata": {},
   "outputs": [
    {
     "name": "stdout",
     "output_type": "stream",
     "text": [
      "Simpson 1/3:\n",
      "Integral con Simpson (1/3): 5.387205387205376e-06\n",
      "Error con Simpson (1/3): 0.00030880348218304893\n"
     ]
    }
   ],
   "source": [
    "error = np.abs(Simpson.Simple()-anvalue)\n",
    "print(\"Simpson 1/3:\")\n",
    "print(f\"Integral con Simpson (1/3): {Simpson.Simple()}\")\n",
    "print(f\"Error con Simpson (1/3): {error}\")"
   ]
  },
  {
   "cell_type": "code",
   "execution_count": 8,
   "metadata": {},
   "outputs": [
    {
     "name": "stdout",
     "output_type": "stream",
     "text": [
      "Trapecio:\n",
      "Integral: 0.0003139164964308314\n",
      "Error con Trapecio: 3.3759580442608e-07\n"
     ]
    }
   ],
   "source": [
    "#Integral usando Trapecio\n",
    "Trapecio = Integrals.Integrator(x,f)\n",
    "error = np.abs(Trapecio.GetIntegral()-anvalue)\n",
    "print(f\"Trapecio:\\nIntegral: {Trapecio.GetIntegral()}\")\n",
    "print(f\"Error con Trapecio: {error}\")"
   ]
  },
  {
   "cell_type": "markdown",
   "metadata": {},
   "source": [
    "### **Punto 7**\n",
    "\n",
    "Calcular el volumen de una semiesfera de radio R=1"
   ]
  },
  {
   "cell_type": "code",
   "execution_count": 9,
   "metadata": {},
   "outputs": [],
   "source": [
    "def semiesfera(x,y):\n",
    "    if x**2+y**2<=1:\n",
    "        return np.sqrt(x**2+y**2)\n",
    "    else:\n",
    "        return 0"
   ]
  },
  {
   "cell_type": "code",
   "execution_count": 10,
   "metadata": {},
   "outputs": [],
   "source": [
    "#Meshgrid the 5x5\n",
    "x,y = np.mgrid[-1:1:500j,-1:1:500j]"
   ]
  },
  {
   "cell_type": "code",
   "execution_count": 11,
   "metadata": {},
   "outputs": [],
   "source": [
    "Areasq = (x[1,1]-x[0,0])*(y[1,1]-y[0,0])"
   ]
  },
  {
   "cell_type": "code",
   "execution_count": 12,
   "metadata": {},
   "outputs": [],
   "source": [
    "coord_values ={}\n",
    "for i in range(x.shape[0]):\n",
    "    for j in range(x.shape[1]):\n",
    "        x_vertex = x[i, j]\n",
    "        y_vertex = y[i, j]\n",
    "        value = semiesfera(x_vertex, y_vertex)\n",
    "        coord_values[(i,j)] = value\n",
    "        "
   ]
  },
  {
   "cell_type": "code",
   "execution_count": 13,
   "metadata": {},
   "outputs": [],
   "source": [
    "def mean_at_sq(i,j):\n",
    "    suma = coord_values[(i,j)] + coord_values[(i+1,j+1)] + coord_values[(i+1,j)] + coord_values[(i,j+1)]\n",
    "    return suma/4"
   ]
  },
  {
   "cell_type": "code",
   "execution_count": 14,
   "metadata": {},
   "outputs": [],
   "source": [
    "volume = 0\n",
    "for i in range(len(x)-1):\n",
    "    for j in range(len(y)-1):\n",
    "        volume+=Areasq*mean_at_sq(i,j)"
   ]
  },
  {
   "cell_type": "code",
   "execution_count": null,
   "metadata": {},
   "outputs": [],
   "source": [
    "print(f\"Volumen aproximado: {volume}\")"
   ]
  },
  {
   "cell_type": "markdown",
   "metadata": {},
   "source": [
    "### **Ejercicio 10**"
   ]
  },
  {
   "cell_type": "code",
   "execution_count": 16,
   "metadata": {},
   "outputs": [],
   "source": [
    "x = sym.Symbol('x',real=True)\n",
    "h = sym.Symbol('h', real=True)"
   ]
  },
  {
   "cell_type": "markdown",
   "metadata": {},
   "source": [
    "Tenemos que $E =\\frac{f^{(4)}(\\zeta)}{24}\\int_0^{3h}(x)(x-h)(x-2h)(x-3h)dx $"
   ]
  },
  {
   "cell_type": "code",
   "execution_count": 17,
   "metadata": {},
   "outputs": [],
   "source": [
    "def funcion(x,h):\n",
    "    return x*(x-h)*(x-2*h)*(x-3*h)"
   ]
  },
  {
   "cell_type": "markdown",
   "metadata": {},
   "source": [
    "Usamos Sympy para calcular $\\int_0^{3h}(x)(x-h)(x-2h)(x-3h)dx$\n",
    "\n",
    "Lo cual es igual a "
   ]
  },
  {
   "cell_type": "code",
   "execution_count": 18,
   "metadata": {},
   "outputs": [
    {
     "data": {
      "text/latex": [
       "$\\displaystyle - \\frac{9 h^{5}}{10}$"
      ],
      "text/plain": [
       "-9*h**5/10"
      ]
     },
     "execution_count": 18,
     "metadata": {},
     "output_type": "execute_result"
    }
   ],
   "source": [
    "sym.integrate(funcion(x,h), (x, 0, 3*h))"
   ]
  },
  {
   "cell_type": "markdown",
   "metadata": {},
   "source": [
    "Entonces  $E = \\frac{f^{(4)}(\\zeta)}{24}\\int_0^{3h}(x)(x-h)(x-2h)(x-3h)dx = \\frac{f^{(4)}(\\zeta)}{24}\\cdot \\frac{-9h^5}{10} = \\frac{f^{(4)}(\\zeta)}{24}\\cdot \\frac{-9h^5}{10} = \\frac{-3h^5f^{4}(\\zeta)}{80}$"
   ]
  },
  {
   "cell_type": "markdown",
   "metadata": {},
   "source": [
    "### **Ejercicio 17**"
   ]
  },
  {
   "cell_type": "markdown",
   "metadata": {},
   "source": [
    "**a)**"
   ]
  },
  {
   "cell_type": "code",
   "execution_count": 19,
   "metadata": {},
   "outputs": [],
   "source": [
    "def funcion(x):\n",
    "    return (x**3)/(np.exp(x)-1)*np.exp(x)"
   ]
  },
  {
   "cell_type": "code",
   "execution_count": 20,
   "metadata": {},
   "outputs": [],
   "source": [
    "raices = cuadraturas.GetAllRootsGlag(3)\n",
    "pesos = cuadraturas.GetWeightsGLag(3)"
   ]
  },
  {
   "cell_type": "markdown",
   "metadata": {},
   "source": [
    "Aproximacion con el **tercer** polinomio de Laguerre"
   ]
  },
  {
   "cell_type": "code",
   "execution_count": 21,
   "metadata": {},
   "outputs": [
    {
     "data": {
      "text/plain": [
       "6.481130171540032"
      ]
     },
     "execution_count": 21,
     "metadata": {},
     "output_type": "execute_result"
    }
   ],
   "source": [
    "sum(pesos*funcion(raices)) #valor exacto 6.493939402266828"
   ]
  },
  {
   "cell_type": "markdown",
   "metadata": {},
   "source": [
    "**b)**"
   ]
  },
  {
   "cell_type": "code",
   "execution_count": 22,
   "metadata": {},
   "outputs": [],
   "source": [
    "exact_value = np.pi**4/15\n",
    "rel_errores = np.array([])\n",
    "for n in range(2,11):\n",
    "    raices = cuadraturas.GetAllRootsGlag(n)\n",
    "    pesos = cuadraturas.GetWeightsGLag(n)\n",
    "    aprox = sum(pesos*funcion(raices))\n",
    "    error = aprox/exact_value\n",
    "    rel_errores = np.append(rel_errores,error)"
   ]
  },
  {
   "cell_type": "code",
   "execution_count": 23,
   "metadata": {},
   "outputs": [
    {
     "data": {
      "image/png": "[encoded data removed]",
      "text/plain": [
       "<Figure size 720x360 with 1 Axes>"
      ]
     },
     "metadata": {
      "needs_background": "light"
     },
     "output_type": "display_data"
    }
   ],
   "source": [
    "fig, ax = plt.subplots(figsize= (10,5))\n",
    "x = np.array([i for i in range(2,11)])\n",
    "ax.scatter(x,rel_errores)\n",
    "ax.set_title(r\"Relative error for $n \\in\\{2,3...,10\\}$\")\n",
    "ax.set_ylabel(\"Error\")\n",
    "plt.ylim(0.985,1.010)\n",
    "plt.grid()"
   ]
  },
  {
   "cell_type": "markdown",
   "metadata": {},
   "source": [
    "### **Ejercicio 18**"
   ]
  },
  {
   "cell_type": "markdown",
   "metadata": {},
   "source": [
    "a)"
   ]
  },
  {
   "cell_type": "markdown",
   "metadata": {},
   "source": [
    "Pesos del polinomio de Hermite de grado 20"
   ]
  },
  {
   "cell_type": "code",
   "execution_count": 24,
   "metadata": {},
   "outputs": [
    {
     "data": {
      "text/plain": [
       "array([2.22939365e-13, 4.39934099e-10, 1.08606937e-07, 7.80255648e-06,\n",
       "       2.28338636e-04, 3.24377334e-03, 2.48105209e-02, 1.09017206e-01,\n",
       "       2.86675505e-01, 4.62243670e-01, 4.62243670e-01, 2.86675505e-01,\n",
       "       1.09017206e-01, 2.48105209e-02, 3.24377334e-03, 2.28338636e-04,\n",
       "       7.80255648e-06, 1.08606937e-07, 4.39934099e-10, 2.22939365e-13])"
      ]
     },
     "execution_count": 24,
     "metadata": {},
     "output_type": "execute_result"
    }
   ],
   "source": [
    "cuadraturas.GetWeightsGHer(20)"
   ]
  },
  {
   "cell_type": "markdown",
   "metadata": {},
   "source": [
    "Raices del polinomio de Hermite de grado 20"
   ]
  },
  {
   "cell_type": "code",
   "execution_count": null,
   "metadata": {},
   "outputs": [],
   "source": [
    "cuadraturas.GetAllRootsGHer(20)"
   ]
  },
  {
   "cell_type": "markdown",
   "metadata": {},
   "source": [
    "b)"
   ]
  },
  {
   "cell_type": "code",
   "execution_count": null,
   "metadata": {},
   "outputs": [],
   "source": [
    "def funcion(x):\n",
    "    p = 0.5*(1/np.pi**0.5)*4*x**2\n",
    "    return p*x**2"
   ]
  },
  {
   "cell_type": "code",
   "execution_count": null,
   "metadata": {},
   "outputs": [],
   "source": [
    "roots = cuadraturas.GetAllRootsGHer(5) #raiz de poly hermite grado 5\n",
    "weights = cuadraturas.GetWeightsGHer(5) #peso de poly hermite grado 5"
   ]
  },
  {
   "cell_type": "code",
   "execution_count": null,
   "metadata": {},
   "outputs": [],
   "source": [
    "np.sum(weights*funcion(roots))"
   ]
  },
  {
   "cell_type": "markdown",
   "metadata": {},
   "source": [
    "### **Ejercicio 19**"
   ]
  },
  {
   "cell_type": "markdown",
   "metadata": {},
   "source": [
    "a)"
   ]
  },
  {
   "cell_type": "code",
   "execution_count": null,
   "metadata": {},
   "outputs": [],
   "source": [
    "def funcion(T,banda):\n",
    "    argumento = np.sqrt(x**2+banda**2)\n",
    "    numerador = 0.5*np.tanh(argumento)*300/(2*T)\n",
    "    denominador = argumento\n",
    "    return numerador/denominador"
   ]
  },
  {
   "cell_type": "markdown",
   "metadata": {},
   "source": [
    "b)"
   ]
  },
  {
   "cell_type": "code",
   "execution_count": null,
   "metadata": {},
   "outputs": [],
   "source": [
    "n = 50\n",
    "Roots, Weights = np.polynomial.legendre.leggauss(n)"
   ]
  },
  {
   "cell_type": "markdown",
   "metadata": {},
   "source": [
    "c)"
   ]
  },
  {
   "cell_type": "code",
   "execution_count": null,
   "metadata": {},
   "outputs": [],
   "source": [
    "T = np.linspace(1,20,190000)"
   ]
  },
  {
   "cell_type": "markdown",
   "metadata": {},
   "source": [
    "d)"
   ]
  },
  {
   "cell_type": "code",
   "execution_count": null,
   "metadata": {},
   "outputs": [],
   "source": [
    "if np.abs(I-1/0.3)< 1e-4:"
   ]
  }
 ],
 "metadata": {
  "kernelspec": {
   "display_name": "Python 3",
   "language": "python",
   "name": "python3"
  },
  "language_info": {
   "codemirror_mode": {
    "name": "ipython",
    "version": 3
   },
   "file_extension": ".py",
   "mimetype": "text/x-python",
   "name": "python",
   "nbconvert_exporter": "python",
   "pygments_lexer": "ipython3",
   "version": "3.7.6"
  }
 },
 "nbformat": 4,
 "nbformat_minor": 4
}
