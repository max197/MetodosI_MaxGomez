{
 "cells": [
  {
   "cell_type": "code",
   "execution_count": 97,
   "metadata": {},
   "outputs": [],
   "source": [
    "import cuadraturas\n",
    "import Integrals\n",
    "import numpy as np\n",
    "import sympy as sym\n",
    "import matplotlib.pyplot as plt\n",
    "from mpl_toolkits.mplot3d import axes3d\n",
    "from funciones import GetNewton"
   ]
  },
  {
   "cell_type": "markdown",
   "metadata": {},
   "source": [
    "## Completados:"
   ]
  },
  {
   "cell_type": "markdown",
   "metadata": {},
   "source": [
    "6, 10, 7, 17, 18"
   ]
  },
  {
   "cell_type": "markdown",
   "metadata": {},
   "source": [
    "## Revisar:"
   ]
  },
  {
   "cell_type": "markdown",
   "metadata": {},
   "source": [
    "19"
   ]
  },
  {
   "cell_type": "markdown",
   "metadata": {},
   "source": [
    "## Completar"
   ]
  },
  {
   "cell_type": "markdown",
   "metadata": {},
   "source": [
    "3,5,19"
   ]
  },
  {
   "cell_type": "markdown",
   "metadata": {},
   "source": [
    "----"
   ]
  },
  {
   "cell_type": "markdown",
   "metadata": {},
   "source": [
    "Problemas parcial 2\n",
    "\n",
    "Ejercicios: Raíces de polinomios 5\n",
    "\n",
    "Ejercicios: Integración: 1,3,6,7,10,17,18,19\n",
    "\n",
    "Teoricos:\n",
    "* 1\n",
    "* 3\n",
    "\n",
    "Computacionales:\n",
    "* 10 (Sympy)\n",
    "* 17 (Gauss-Laguerre)\n",
    "* 18 (Gauss Hermite)\n",
    "* 19 (Gauss Legendre)"
   ]
  },
  {
   "cell_type": "markdown",
   "metadata": {},
   "source": [
    "# **Raices de polinomios**"
   ]
  },
  {
   "cell_type": "markdown",
   "metadata": {},
   "source": [
    "### **Ejercicio 5**"
   ]
  },
  {
   "cell_type": "code",
   "execution_count": 168,
   "metadata": {},
   "outputs": [],
   "source": [
    "x = sym.Symbol(\"x\", real=True)\n",
    "n = sym.Symbol(\"n\", real=True)"
   ]
  },
  {
   "cell_type": "code",
   "execution_count": 169,
   "metadata": {},
   "outputs": [],
   "source": [
    "def funcion(x,n):\n",
    "    return sym.exp(-x)*x**n"
   ]
  },
  {
   "cell_type": "code",
   "execution_count": 170,
   "metadata": {},
   "outputs": [],
   "source": [
    "def df(x,n):\n",
    "    '''derivada n-esima de exp(-x)x^n'''\n",
    "    return sym.diff(funcion(x,n),x,n)"
   ]
  },
  {
   "cell_type": "code",
   "execution_count": 171,
   "metadata": {},
   "outputs": [],
   "source": [
    "def polyLaguerre(x,n):\n",
    "    return (sym.exp(x)/np.math.factorial(n))*df(x,n)\n",
    "    "
   ]
  },
  {
   "cell_type": "code",
   "execution_count": 176,
   "metadata": {},
   "outputs": [],
   "source": [
    "def GetAllRootsGlag(n):\n",
    "    \n",
    "    tolerancia = 10\n",
    "    #xn = np.linspace(liminf,limsup,50)\n",
    "    puntos_ini= [0,0.5,1,2,3,4,6,7,9,12,14.5,16,18,21,26,29,35,41,44,50]\n",
    "    xn = np.array(puntos_ini)\n",
    "    \n",
    "    poly = polyLaguerre(x,n)\n",
    "    df_poly = sym.diff(poly,x,1)\n",
    "    \n",
    "    poly = sym.lambdify(x,poly,'numpy')\n",
    "    df_poly = sym.lambdify(x,df_poly,'numpy')\n",
    "    \n",
    "    Roots = np.array([])\n",
    "    \n",
    "    for i in xn:\n",
    "        \n",
    "        root = GetNewton(poly,df_poly,i)\n",
    "        #print(type(root))\n",
    "        if  type(root)!=bool:\n",
    "            croot = np.round(root, tolerancia)\n",
    "            if croot not in Roots:\n",
    "                Roots = np.append(Roots, croot)\n",
    "                \n",
    "    Roots.sort()\n",
    "    \n",
    "    return np.unique(Roots)"
   ]
  },
  {
   "cell_type": "code",
   "execution_count": 175,
   "metadata": {},
   "outputs": [
    {
     "data": {
      "text/plain": [
       "array([0.07053989, 0.9165821 , 1.70730653])"
      ]
     },
     "execution_count": 175,
     "metadata": {},
     "output_type": "execute_result"
    }
   ],
   "source": [
    "GetAllRootsGlag(20,0,5)"
   ]
  },
  {
   "cell_type": "code",
   "execution_count": 177,
   "metadata": {},
   "outputs": [
    {
     "name": "stdout",
     "output_type": "stream",
     "text": [
      "0\n",
      "[0.07053989 0.37212682 0.9165821  1.70730653 2.74919926]\n",
      "5\n",
      "[0.07053989 2.74919926]\n",
      "10\n",
      "[0.07053989]\n",
      "15\n",
      "[]\n",
      "20\n",
      "[]\n",
      "25\n",
      "[]\n",
      "30\n"
     ]
    },
    {
     "ename": "KeyboardInterrupt",
     "evalue": "",
     "output_type": "error",
     "traceback": [
      "\u001b[1;31m---------------------------------------------------------------------------\u001b[0m",
      "\u001b[1;31mKeyboardInterrupt\u001b[0m                         Traceback (most recent call last)",
      "\u001b[1;32m<ipython-input-177-26e11522a354>\u001b[0m in \u001b[0;36m<module>\u001b[1;34m\u001b[0m\n\u001b[0;32m      1\u001b[0m \u001b[1;32mfor\u001b[0m \u001b[0mi\u001b[0m \u001b[1;32min\u001b[0m \u001b[0mrange\u001b[0m\u001b[1;33m(\u001b[0m\u001b[1;36m0\u001b[0m\u001b[1;33m,\u001b[0m\u001b[1;36m60\u001b[0m\u001b[1;33m,\u001b[0m\u001b[1;36m5\u001b[0m\u001b[1;33m)\u001b[0m\u001b[1;33m:\u001b[0m\u001b[1;33m\u001b[0m\u001b[1;33m\u001b[0m\u001b[0m\n\u001b[0;32m      2\u001b[0m     \u001b[0mprint\u001b[0m\u001b[1;33m(\u001b[0m\u001b[0mi\u001b[0m\u001b[1;33m)\u001b[0m\u001b[1;33m\u001b[0m\u001b[1;33m\u001b[0m\u001b[0m\n\u001b[1;32m----> 3\u001b[1;33m     \u001b[0mprint\u001b[0m\u001b[1;33m(\u001b[0m\u001b[0mGetAllRootsGlag\u001b[0m\u001b[1;33m(\u001b[0m\u001b[1;36m20\u001b[0m\u001b[1;33m,\u001b[0m\u001b[0mi\u001b[0m\u001b[1;33m,\u001b[0m\u001b[0mi\u001b[0m\u001b[1;33m+\u001b[0m\u001b[1;36m5\u001b[0m\u001b[1;33m)\u001b[0m\u001b[1;33m)\u001b[0m\u001b[1;33m\u001b[0m\u001b[1;33m\u001b[0m\u001b[0m\n\u001b[0m\u001b[0;32m      4\u001b[0m \u001b[1;33m\u001b[0m\u001b[0m\n",
      "\u001b[1;32m<ipython-input-176-c1bf97e16a4b>\u001b[0m in \u001b[0;36mGetAllRootsGlag\u001b[1;34m(n, liminf, limsup)\u001b[0m\n\u001b[0;32m     14\u001b[0m     \u001b[1;32mfor\u001b[0m \u001b[0mi\u001b[0m \u001b[1;32min\u001b[0m \u001b[0mxn\u001b[0m\u001b[1;33m:\u001b[0m\u001b[1;33m\u001b[0m\u001b[1;33m\u001b[0m\u001b[0m\n\u001b[0;32m     15\u001b[0m \u001b[1;33m\u001b[0m\u001b[0m\n\u001b[1;32m---> 16\u001b[1;33m         \u001b[0mroot\u001b[0m \u001b[1;33m=\u001b[0m \u001b[0mGetNewton\u001b[0m\u001b[1;33m(\u001b[0m\u001b[0mpoly\u001b[0m\u001b[1;33m,\u001b[0m\u001b[0mdf_poly\u001b[0m\u001b[1;33m,\u001b[0m\u001b[0mi\u001b[0m\u001b[1;33m)\u001b[0m\u001b[1;33m\u001b[0m\u001b[1;33m\u001b[0m\u001b[0m\n\u001b[0m\u001b[0;32m     17\u001b[0m         \u001b[1;31m#print(type(root))\u001b[0m\u001b[1;33m\u001b[0m\u001b[1;33m\u001b[0m\u001b[1;33m\u001b[0m\u001b[0m\n\u001b[0;32m     18\u001b[0m         \u001b[1;32mif\u001b[0m  \u001b[0mtype\u001b[0m\u001b[1;33m(\u001b[0m\u001b[0mroot\u001b[0m\u001b[1;33m)\u001b[0m\u001b[1;33m!=\u001b[0m\u001b[0mbool\u001b[0m\u001b[1;33m:\u001b[0m\u001b[1;33m\u001b[0m\u001b[1;33m\u001b[0m\u001b[0m\n",
      "\u001b[1;32m~\\Documents\\MetodosI_MaxGomez_NicolasBarrantes\\Parcial2_ejercicioslibro\\funciones.py\u001b[0m in \u001b[0;36mGetNewton\u001b[1;34m(f, df, xn, itmax, precision)\u001b[0m\n\u001b[0;32m     15\u001b[0m             \u001b[0mxn1\u001b[0m \u001b[1;33m=\u001b[0m \u001b[0mxn\u001b[0m \u001b[1;33m-\u001b[0m \u001b[0mf\u001b[0m\u001b[1;33m(\u001b[0m\u001b[0mxn\u001b[0m\u001b[1;33m)\u001b[0m\u001b[1;33m/\u001b[0m\u001b[0mdf\u001b[0m\u001b[1;33m(\u001b[0m\u001b[0mxn\u001b[0m\u001b[1;33m)\u001b[0m\u001b[1;33m\u001b[0m\u001b[1;33m\u001b[0m\u001b[0m\n\u001b[0;32m     16\u001b[0m \u001b[1;33m\u001b[0m\u001b[0m\n\u001b[1;32m---> 17\u001b[1;33m             \u001b[0merror\u001b[0m \u001b[1;33m=\u001b[0m \u001b[0mnp\u001b[0m\u001b[1;33m.\u001b[0m\u001b[0mabs\u001b[0m\u001b[1;33m(\u001b[0m\u001b[0mf\u001b[0m\u001b[1;33m(\u001b[0m\u001b[0mxn\u001b[0m\u001b[1;33m)\u001b[0m\u001b[1;33m/\u001b[0m\u001b[0mdf\u001b[0m\u001b[1;33m(\u001b[0m\u001b[0mxn\u001b[0m\u001b[1;33m)\u001b[0m\u001b[1;33m)\u001b[0m\u001b[1;33m\u001b[0m\u001b[1;33m\u001b[0m\u001b[0m\n\u001b[0m\u001b[0;32m     18\u001b[0m \u001b[1;33m\u001b[0m\u001b[0m\n\u001b[0;32m     19\u001b[0m         \u001b[1;32mexcept\u001b[0m \u001b[0mZeroDivisionError\u001b[0m\u001b[1;33m:\u001b[0m\u001b[1;33m\u001b[0m\u001b[1;33m\u001b[0m\u001b[0m\n",
      "\u001b[1;32m<lambdifygenerated-109>\u001b[0m in \u001b[0;36m_lambdifygenerated\u001b[1;34m(x)\u001b[0m\n\u001b[0;32m      1\u001b[0m \u001b[1;32mdef\u001b[0m \u001b[0m_lambdifygenerated\u001b[0m\u001b[1;33m(\u001b[0m\u001b[0mx\u001b[0m\u001b[1;33m)\u001b[0m\u001b[1;33m:\u001b[0m\u001b[1;33m\u001b[0m\u001b[1;33m\u001b[0m\u001b[0m\n\u001b[1;32m----> 2\u001b[1;33m     \u001b[1;32mreturn\u001b[0m \u001b[1;33m(\u001b[0m\u001b[1;33m(\u001b[0m\u001b[1;36m1\u001b[0m\u001b[1;33m/\u001b[0m\u001b[1;36m2432902008176640000\u001b[0m\u001b[1;33m)\u001b[0m\u001b[1;33m*\u001b[0m\u001b[0mx\u001b[0m\u001b[1;33m**\u001b[0m\u001b[1;36m20\u001b[0m \u001b[1;33m-\u001b[0m \u001b[1;36m1\u001b[0m\u001b[1;33m/\u001b[0m\u001b[1;36m6082255020441600\u001b[0m\u001b[1;33m*\u001b[0m\u001b[0mx\u001b[0m\u001b[1;33m**\u001b[0m\u001b[1;36m19\u001b[0m \u001b[1;33m+\u001b[0m \u001b[1;33m(\u001b[0m\u001b[1;36m19\u001b[0m\u001b[1;33m/\u001b[0m\u001b[1;36m640237370572800\u001b[0m\u001b[1;33m)\u001b[0m\u001b[1;33m*\u001b[0m\u001b[0mx\u001b[0m\u001b[1;33m**\u001b[0m\u001b[1;36m18\u001b[0m \u001b[1;33m-\u001b[0m \u001b[1;36m19\u001b[0m\u001b[1;33m/\u001b[0m\u001b[1;36m5928123801600\u001b[0m\u001b[1;33m*\u001b[0m\u001b[0mx\u001b[0m\u001b[1;33m**\u001b[0m\u001b[1;36m17\u001b[0m \u001b[1;33m+\u001b[0m \u001b[1;33m(\u001b[0m\u001b[1;36m323\u001b[0m\u001b[1;33m/\u001b[0m\u001b[1;36m1394852659200\u001b[0m\u001b[1;33m)\u001b[0m\u001b[1;33m*\u001b[0m\u001b[0mx\u001b[0m\u001b[1;33m**\u001b[0m\u001b[1;36m16\u001b[0m \u001b[1;33m-\u001b[0m \u001b[1;36m323\u001b[0m\u001b[1;33m/\u001b[0m\u001b[1;36m27243216000\u001b[0m\u001b[1;33m*\u001b[0m\u001b[0mx\u001b[0m\u001b[1;33m**\u001b[0m\u001b[1;36m15\u001b[0m \u001b[1;33m+\u001b[0m \u001b[1;33m(\u001b[0m\u001b[1;36m323\u001b[0m\u001b[1;33m/\u001b[0m\u001b[1;36m726485760\u001b[0m\u001b[1;33m)\u001b[0m\u001b[1;33m*\u001b[0m\u001b[0mx\u001b[0m\u001b[1;33m**\u001b[0m\u001b[1;36m14\u001b[0m \u001b[1;33m-\u001b[0m \u001b[1;36m323\u001b[0m\u001b[1;33m/\u001b[0m\u001b[1;36m25945920\u001b[0m\u001b[1;33m*\u001b[0m\u001b[0mx\u001b[0m\u001b[1;33m**\u001b[0m\u001b[1;36m13\u001b[0m \u001b[1;33m+\u001b[0m \u001b[1;33m(\u001b[0m\u001b[1;36m4199\u001b[0m\u001b[1;33m/\u001b[0m\u001b[1;36m15966720\u001b[0m\u001b[1;33m)\u001b[0m\u001b[1;33m*\u001b[0m\u001b[0mx\u001b[0m\u001b[1;33m**\u001b[0m\u001b[1;36m12\u001b[0m \u001b[1;33m-\u001b[0m \u001b[1;36m4199\u001b[0m\u001b[1;33m/\u001b[0m\u001b[1;36m997920\u001b[0m\u001b[1;33m*\u001b[0m\u001b[0mx\u001b[0m\u001b[1;33m**\u001b[0m\u001b[1;36m11\u001b[0m \u001b[1;33m+\u001b[0m \u001b[1;33m(\u001b[0m\u001b[1;36m46189\u001b[0m\u001b[1;33m/\u001b[0m\u001b[1;36m907200\u001b[0m\u001b[1;33m)\u001b[0m\u001b[1;33m*\u001b[0m\u001b[0mx\u001b[0m\u001b[1;33m**\u001b[0m\u001b[1;36m10\u001b[0m \u001b[1;33m-\u001b[0m \u001b[1;36m4199\u001b[0m\u001b[1;33m/\u001b[0m\u001b[1;36m9072\u001b[0m\u001b[1;33m*\u001b[0m\u001b[0mx\u001b[0m\u001b[1;33m**\u001b[0m\u001b[1;36m9\u001b[0m \u001b[1;33m+\u001b[0m \u001b[1;33m(\u001b[0m\u001b[1;36m4199\u001b[0m\u001b[1;33m/\u001b[0m\u001b[1;36m1344\u001b[0m\u001b[1;33m)\u001b[0m\u001b[1;33m*\u001b[0m\u001b[0mx\u001b[0m\u001b[1;33m**\u001b[0m\u001b[1;36m8\u001b[0m \u001b[1;33m-\u001b[0m \u001b[1;36m323\u001b[0m\u001b[1;33m/\u001b[0m\u001b[1;36m21\u001b[0m\u001b[1;33m*\u001b[0m\u001b[0mx\u001b[0m\u001b[1;33m**\u001b[0m\u001b[1;36m7\u001b[0m \u001b[1;33m+\u001b[0m \u001b[1;33m(\u001b[0m\u001b[1;36m323\u001b[0m\u001b[1;33m/\u001b[0m\u001b[1;36m6\u001b[0m\u001b[1;33m)\u001b[0m\u001b[1;33m*\u001b[0m\u001b[0mx\u001b[0m\u001b[1;33m**\u001b[0m\u001b[1;36m6\u001b[0m \u001b[1;33m-\u001b[0m \u001b[1;36m646\u001b[0m\u001b[1;33m/\u001b[0m\u001b[1;36m5\u001b[0m\u001b[1;33m*\u001b[0m\u001b[0mx\u001b[0m\u001b[1;33m**\u001b[0m\u001b[1;36m5\u001b[0m \u001b[1;33m+\u001b[0m \u001b[1;33m(\u001b[0m\u001b[1;36m1615\u001b[0m\u001b[1;33m/\u001b[0m\u001b[1;36m8\u001b[0m\u001b[1;33m)\u001b[0m\u001b[1;33m*\u001b[0m\u001b[0mx\u001b[0m\u001b[1;33m**\u001b[0m\u001b[1;36m4\u001b[0m \u001b[1;33m-\u001b[0m \u001b[1;36m190\u001b[0m\u001b[1;33m*\u001b[0m\u001b[0mx\u001b[0m\u001b[1;33m**\u001b[0m\u001b[1;36m3\u001b[0m \u001b[1;33m+\u001b[0m \u001b[1;36m95\u001b[0m\u001b[1;33m*\u001b[0m\u001b[0mx\u001b[0m\u001b[1;33m**\u001b[0m\u001b[1;36m2\u001b[0m \u001b[1;33m-\u001b[0m \u001b[1;36m20\u001b[0m\u001b[1;33m*\u001b[0m\u001b[0mx\u001b[0m \u001b[1;33m+\u001b[0m \u001b[1;36m1\u001b[0m\u001b[1;33m)\u001b[0m\u001b[1;33m\u001b[0m\u001b[1;33m\u001b[0m\u001b[0m\n\u001b[0m",
      "\u001b[1;31mKeyboardInterrupt\u001b[0m: "
     ]
    }
   ],
   "source": [
    "roots_poly20 = np.zeros([])\n",
    "for i in range(0,60,5):\n",
    "    print(i)\n",
    "    print(GetAllRootsGlag(20,i,i+5))\n",
    "    roots_poly20 = np.append(roots_poly20,GetAllRootsGlag(20,i,i+5))\n",
    "    \n",
    "    \n",
    "    "
   ]
  },
  {
   "cell_type": "code",
   "execution_count": null,
   "metadata": {},
   "outputs": [],
   "source": []
  },
  {
   "cell_type": "code",
   "execution_count": 152,
   "metadata": {},
   "outputs": [
    {
     "data": {
      "text/plain": [
       "[<matplotlib.lines.Line2D at 0x205fcb9bd08>]"
      ]
     },
     "execution_count": 152,
     "metadata": {},
     "output_type": "execute_result"
    },
    {
     "data": {
      "image/png": "[encoded data removed]",
      "text/plain": [
       "<Figure size 1440x360 with 10 Axes>"
      ]
     },
     "metadata": {
      "needs_background": "light"
     },
     "output_type": "display_data"
    }
   ],
   "source": [
    "fig, axs = plt.subplots(2,5,figsize = (20,5))\n",
    "x0 = np.linspace(0,5,100)#20+(20-1)*np.sqrt(20),20)\n",
    "x1 = np.linspace(5,10,100)\n",
    "x2 = np.linspace(10,15,100)\n",
    "x3 = np.linspace(15,20,100)\n",
    "x4 = np.linspace(20,25,100)\n",
    "x5 = np.linspace(25,30,100)\n",
    "x6 = np.linspace(30,35,100)\n",
    "x7 = np.linspace(40,45,100)\n",
    "x8 = np.linspace(45,50,100)\n",
    "x9 = np.linspace(50,55,100)\n",
    "y0 = poly(x0)\n",
    "y1 = poly(x1)\n",
    "y2 = poly(x2)\n",
    "y3 = poly(x3)\n",
    "y4 = poly(x4)\n",
    "y5 = poly(x5)\n",
    "y6 = poly(x6)\n",
    "y7 = poly(x7)\n",
    "y8 = poly(x8)\n",
    "y9 = poly(x9)\n",
    "\n",
    "axs[0,0].plot(x0,y0)\n",
    "axs[0,1].plot(x1,y1)\n",
    "axs[0,2].plot(x2,y2)\n",
    "axs[0,3].plot(x3,y3)\n",
    "axs[0,4].plot(x4,y4)\n",
    "axs[1,0].plot(x5,y5)\n",
    "axs[1,1].plot(x6,y6)\n",
    "axs[1,2].plot(x7,y7)\n",
    "axs[1,3].plot(x8,y8)\n",
    "axs[1,4].plot(x9,y9)\n"
   ]
  },
  {
   "cell_type": "code",
   "execution_count": 179,
   "metadata": {},
   "outputs": [
    {
     "data": {
      "text/plain": [
       "20"
      ]
     },
     "execution_count": 179,
     "metadata": {},
     "output_type": "execute_result"
    }
   ],
   "source": [
    "\n"
   ]
  },
  {
   "cell_type": "code",
   "execution_count": 180,
   "metadata": {},
   "outputs": [
    {
     "data": {
      "text/plain": [
       "array([ 0. ,  0.5,  1. ,  2. ,  3. ,  4. ,  6. ,  7. ,  9. , 12. , 14.5,\n",
       "       16. , 18. , 21. , 26. , 29. , 35. , 41. ,  4. ])"
      ]
     },
     "execution_count": 180,
     "metadata": {},
     "output_type": "execute_result"
    }
   ],
   "source": [
    "puntos_ini= [0,0.5,1,2,3,4,6,7,9,12,14.5,16,18,21,26,29,35,41,4]\n"
   ]
  },
  {
   "cell_type": "code",
   "execution_count": 105,
   "metadata": {},
   "outputs": [
    {
     "data": {
      "text/plain": [
       "array([0.07053989, 0.37212682, 0.9165821 , 1.70730653, 2.74919926])"
      ]
     },
     "execution_count": 105,
     "metadata": {},
     "output_type": "execute_result"
    }
   ],
   "source": []
  },
  {
   "cell_type": "markdown",
   "metadata": {},
   "source": [
    "# **Integracion**"
   ]
  },
  {
   "cell_type": "markdown",
   "metadata": {},
   "source": [
    "### **Ejercicio 1**"
   ]
  },
  {
   "cell_type": "markdown",
   "metadata": {},
   "source": [
    "$I = \\int_a^b f(x)dx \\cong \\int_a^b p_1(x)dx = \\frac{b-a}{2}(f(a)+f(b))$"
   ]
  },
  {
   "cell_type": "markdown",
   "metadata": {},
   "source": [
    "Dem: \n",
    "\n",
    "Sabemos que $f(x)\\cong p_1(x) = \\frac{x-b}{a-b}f(a) + \\frac{x-a}{b-a}f(b), \\forall x\\in [a,b]$ (inteporlación de legendre con soporte de dos elementos).\n",
    "\n",
    "Entonces "
   ]
  },
  {
   "cell_type": "markdown",
   "metadata": {},
   "source": [
    "\\begin{equation}\n",
    "\\begin{split}\n",
    "\\int_a^b f(x)dx \\cong \\int_a^b p_1(x)dx &= \\frac{f(a)}{a-b}\\big(\\frac{b^2}{2}-\\frac{a^2}{2}-b^2+ab\\big) +\\frac{f(b)}{b-a}\\big(\\frac{b^2}{2}-\\frac{a^2}{2}-ab+a^2\\big) \\\\\n",
    " & = \\frac{f(a)}{b-a}\\big(ab-\\frac{b^2}{2}-\\frac{a^2}{2}\\big) + \\frac{f(b)}{b-a}\\big(\\frac{b^2}{2}+\\frac{a^2}{2}-ab\\big) \\\\\n",
    " &=\\frac{f(a)}{b-a}\\big(\\frac{1}{2}(b-a)^2\\big)+\\frac{f(b)}{b-a}\\big(\\frac{1}{2}(b-a)^2\\big) \\\\\n",
    " &= \\frac{(b-a)^2}{2(b-a)}\\big(f(a)+f(b)\\big) \\\\\n",
    " &= \\frac{b-a}{2}\\big(f(a)+f(b)\\big)\n",
    "\\end{split}\n",
    "\\end{equation}"
   ]
  },
  {
   "cell_type": "markdown",
   "metadata": {},
   "source": [
    "### **Ejercicio 3**"
   ]
  },
  {
   "cell_type": "markdown",
   "metadata": {},
   "source": [
    "Esta en el pdf \"problema_3_integracion\" en esta misma carpeta"
   ]
  },
  {
   "cell_type": "markdown",
   "metadata": {},
   "source": [
    "### **Ejercicio 6**"
   ]
  },
  {
   "cell_type": "code",
   "execution_count": 2,
   "metadata": {},
   "outputs": [],
   "source": [
    "import Integrals"
   ]
  },
  {
   "cell_type": "code",
   "execution_count": 3,
   "metadata": {},
   "outputs": [],
   "source": [
    "def funcion(x):\n",
    "    R = 0.5\n",
    "    a = 0.01\n",
    "    numerador = np.sqrt((a**2)-(x**2))\n",
    "    denominador = R+x\n",
    "    return numerador/denominador"
   ]
  },
  {
   "cell_type": "code",
   "execution_count": 4,
   "metadata": {},
   "outputs": [],
   "source": [
    "N = 100\n",
    "a = 0.01\n",
    "x = np.linspace(-0.01,0.01,N)\n",
    "y = funcion(x)\n",
    "f = funcion"
   ]
  },
  {
   "cell_type": "code",
   "execution_count": 5,
   "metadata": {},
   "outputs": [],
   "source": [
    "Simpson = Integrals.Simpson(x,f)"
   ]
  },
  {
   "cell_type": "code",
   "execution_count": 6,
   "metadata": {},
   "outputs": [
    {
     "name": "stdout",
     "output_type": "stream",
     "text": [
      "Valor analitico de la integral: 0.0003141906875702543\n"
     ]
    }
   ],
   "source": [
    "anvalue = np.pi*(0.5-np.sqrt((0.5**2)-(a**2)))\n",
    "print(f\"Valor analitico de la integral: {anvalue}\")"
   ]
  },
  {
   "cell_type": "code",
   "execution_count": 7,
   "metadata": {},
   "outputs": [
    {
     "name": "stdout",
     "output_type": "stream",
     "text": [
      "Simpson 1/3:\n",
      "Integral con Simpson (1/3): 5.387205387205376e-06\n",
      "Error con Simpson (1/3): 0.00030880348218304893\n"
     ]
    }
   ],
   "source": [
    "error = np.abs(Simpson.Simple()-anvalue)\n",
    "print(\"Simpson 1/3:\")\n",
    "print(f\"Integral con Simpson (1/3): {Simpson.Simple()}\")\n",
    "print(f\"Error con Simpson (1/3): {error}\")"
   ]
  },
  {
   "cell_type": "code",
   "execution_count": 72,
   "metadata": {},
   "outputs": [
    {
     "name": "stderr",
     "output_type": "stream",
     "text": [
      "C:\\Users\\maxal\\anaconda3\\lib\\site-packages\\ipykernel_launcher.py:4: RuntimeWarning: invalid value encountered in sqrt\n",
      "  after removing the cwd from sys.path.\n"
     ]
    },
    {
     "data": {
      "text/plain": [
       "4.087771343295025e-09"
      ]
     },
     "execution_count": 72,
     "metadata": {},
     "output_type": "execute_result"
    }
   ],
   "source": [
    "Simpson.GetSimpleError()"
   ]
  },
  {
   "cell_type": "code",
   "execution_count": 8,
   "metadata": {},
   "outputs": [
    {
     "name": "stdout",
     "output_type": "stream",
     "text": [
      "Trapecio:\n",
      "Integral: 0.0003139164964308314\n",
      "Error con Trapecio: 3.3759580442608e-07\n"
     ]
    }
   ],
   "source": [
    "#Integral usando Trapecio\n",
    "Trapecio = Integrals.Integrator(x,f)\n",
    "error = np.abs(Trapecio.GetIntegral()-anvalue)\n",
    "print(f\"Trapecio:\\nIntegral: {Trapecio.GetIntegral()}\")\n",
    "print(f\"Error con Trapecio: {error}\")"
   ]
  },
  {
   "cell_type": "markdown",
   "metadata": {},
   "source": [
    "### **Punto 7**\n",
    "\n",
    "Calcular el volumen de una semiesfera de radio R=1"
   ]
  },
  {
   "cell_type": "code",
   "execution_count": 9,
   "metadata": {},
   "outputs": [],
   "source": [
    "def semiesfera(x,y):\n",
    "    if x**2+y**2<=1:\n",
    "        return np.sqrt(x**2+y**2)\n",
    "    else:\n",
    "        return 0"
   ]
  },
  {
   "cell_type": "code",
   "execution_count": 10,
   "metadata": {},
   "outputs": [],
   "source": [
    "#Meshgrid the 5x5\n",
    "x,y = np.mgrid[-1:1:500j,-1:1:500j]"
   ]
  },
  {
   "cell_type": "code",
   "execution_count": 11,
   "metadata": {},
   "outputs": [],
   "source": [
    "Areasq = (x[1,1]-x[0,0])*(y[1,1]-y[0,0])"
   ]
  },
  {
   "cell_type": "code",
   "execution_count": 12,
   "metadata": {},
   "outputs": [],
   "source": [
    "coord_values ={}\n",
    "for i in range(x.shape[0]):\n",
    "    for j in range(x.shape[1]):\n",
    "        x_vertex = x[i, j]\n",
    "        y_vertex = y[i, j]\n",
    "        value = semiesfera(x_vertex, y_vertex)\n",
    "        coord_values[(i,j)] = value\n",
    "        "
   ]
  },
  {
   "cell_type": "code",
   "execution_count": 13,
   "metadata": {},
   "outputs": [],
   "source": [
    "def mean_at_sq(i,j):\n",
    "    suma = coord_values[(i,j)] + coord_values[(i+1,j+1)] + coord_values[(i+1,j)] + coord_values[(i,j+1)]\n",
    "    return suma/4"
   ]
  },
  {
   "cell_type": "code",
   "execution_count": 14,
   "metadata": {},
   "outputs": [],
   "source": [
    "volume = 0\n",
    "for i in range(len(x)-1):\n",
    "    for j in range(len(y)-1):\n",
    "        volume+=Areasq*mean_at_sq(i,j)"
   ]
  },
  {
   "cell_type": "code",
   "execution_count": 33,
   "metadata": {},
   "outputs": [
    {
     "name": "stdout",
     "output_type": "stream",
     "text": [
      "Volumen aproximado: 2.09328807542419\n"
     ]
    }
   ],
   "source": [
    "print(f\"Volumen aproximado: {volume}\")"
   ]
  },
  {
   "cell_type": "markdown",
   "metadata": {},
   "source": [
    "### **Ejercicio 10**"
   ]
  },
  {
   "cell_type": "code",
   "execution_count": 16,
   "metadata": {},
   "outputs": [],
   "source": [
    "x = sym.Symbol('x',real=True)\n",
    "h = sym.Symbol('h', real=True)"
   ]
  },
  {
   "cell_type": "markdown",
   "metadata": {},
   "source": [
    "Tenemos que $E =\\frac{f^{(4)}(\\zeta)}{24}\\int_0^{3h}(x)(x-h)(x-2h)(x-3h)dx $"
   ]
  },
  {
   "cell_type": "code",
   "execution_count": 17,
   "metadata": {},
   "outputs": [],
   "source": [
    "def funcion(x,h):\n",
    "    return x*(x-h)*(x-2*h)*(x-3*h)"
   ]
  },
  {
   "cell_type": "markdown",
   "metadata": {},
   "source": [
    "Usamos Sympy para calcular $\\int_0^{3h}(x)(x-h)(x-2h)(x-3h)dx$\n",
    "\n",
    "Lo cual es igual a "
   ]
  },
  {
   "cell_type": "code",
   "execution_count": 18,
   "metadata": {},
   "outputs": [
    {
     "data": {
      "text/latex": [
       "$\\displaystyle - \\frac{9 h^{5}}{10}$"
      ],
      "text/plain": [
       "-9*h**5/10"
      ]
     },
     "execution_count": 18,
     "metadata": {},
     "output_type": "execute_result"
    }
   ],
   "source": [
    "sym.integrate(funcion(x,h), (x, 0, 3*h))"
   ]
  },
  {
   "cell_type": "markdown",
   "metadata": {},
   "source": [
    "Entonces  $E = \\frac{f^{(4)}(\\zeta)}{24}\\int_0^{3h}(x)(x-h)(x-2h)(x-3h)dx = \\frac{f^{(4)}(\\zeta)}{24}\\cdot \\frac{-9h^5}{10} = \\frac{f^{(4)}(\\zeta)}{24}\\cdot \\frac{-9h^5}{10} = \\frac{-3h^5f^{4}(\\zeta)}{80}$"
   ]
  },
  {
   "cell_type": "markdown",
   "metadata": {},
   "source": [
    "### **Ejercicio 17**"
   ]
  },
  {
   "cell_type": "markdown",
   "metadata": {},
   "source": [
    "**a)**"
   ]
  },
  {
   "cell_type": "code",
   "execution_count": 19,
   "metadata": {},
   "outputs": [],
   "source": [
    "def funcion(x):\n",
    "    return (x**3)/(np.exp(x)-1)*np.exp(x)"
   ]
  },
  {
   "cell_type": "code",
   "execution_count": 20,
   "metadata": {},
   "outputs": [],
   "source": [
    "raices = cuadraturas.GetAllRootsGlag(3)\n",
    "pesos = cuadraturas.GetWeightsGLag(3)"
   ]
  },
  {
   "cell_type": "markdown",
   "metadata": {},
   "source": [
    "Aproximacion con el **tercer** polinomio de Laguerre"
   ]
  },
  {
   "cell_type": "code",
   "execution_count": 21,
   "metadata": {},
   "outputs": [
    {
     "data": {
      "text/plain": [
       "6.481130171540032"
      ]
     },
     "execution_count": 21,
     "metadata": {},
     "output_type": "execute_result"
    }
   ],
   "source": [
    "sum(pesos*funcion(raices)) #valor exacto 6.493939402266828"
   ]
  },
  {
   "cell_type": "markdown",
   "metadata": {},
   "source": [
    "**b)**"
   ]
  },
  {
   "cell_type": "code",
   "execution_count": 22,
   "metadata": {},
   "outputs": [],
   "source": [
    "exact_value = np.pi**4/15\n",
    "rel_errores = np.array([])\n",
    "for n in range(2,11):\n",
    "    raices = cuadraturas.GetAllRootsGlag(n)\n",
    "    pesos = cuadraturas.GetWeightsGLag(n)\n",
    "    aprox = sum(pesos*funcion(raices))\n",
    "    error = aprox/exact_value\n",
    "    rel_errores = np.append(rel_errores,error)"
   ]
  },
  {
   "cell_type": "code",
   "execution_count": 23,
   "metadata": {},
   "outputs": [
    {
     "data": {
      "image/png": "[encoded data removed]",
      "text/plain": [
       "<Figure size 720x360 with 1 Axes>"
      ]
     },
     "metadata": {
      "needs_background": "light"
     },
     "output_type": "display_data"
    }
   ],
   "source": [
    "fig, ax = plt.subplots(figsize= (10,5))\n",
    "x = np.array([i for i in range(2,11)])\n",
    "ax.scatter(x,rel_errores)\n",
    "ax.set_title(r\"Relative error for $n \\in\\{2,3...,10\\}$\")\n",
    "ax.set_ylabel(\"Error\")\n",
    "plt.ylim(0.985,1.010)\n",
    "plt.grid()"
   ]
  },
  {
   "cell_type": "markdown",
   "metadata": {},
   "source": [
    "### **Ejercicio 18**"
   ]
  },
  {
   "cell_type": "markdown",
   "metadata": {},
   "source": [
    "a)"
   ]
  },
  {
   "cell_type": "markdown",
   "metadata": {},
   "source": [
    "Pesos del polinomio de Hermite de grado 20"
   ]
  },
  {
   "cell_type": "code",
   "execution_count": 24,
   "metadata": {},
   "outputs": [
    {
     "data": {
      "text/plain": [
       "array([2.22939365e-13, 4.39934099e-10, 1.08606937e-07, 7.80255648e-06,\n",
       "       2.28338636e-04, 3.24377334e-03, 2.48105209e-02, 1.09017206e-01,\n",
       "       2.86675505e-01, 4.62243670e-01, 4.62243670e-01, 2.86675505e-01,\n",
       "       1.09017206e-01, 2.48105209e-02, 3.24377334e-03, 2.28338636e-04,\n",
       "       7.80255648e-06, 1.08606937e-07, 4.39934099e-10, 2.22939365e-13])"
      ]
     },
     "execution_count": 24,
     "metadata": {},
     "output_type": "execute_result"
    }
   ],
   "source": [
    "cuadraturas.GetWeightsGHer(20)"
   ]
  },
  {
   "cell_type": "markdown",
   "metadata": {},
   "source": [
    "Raices del polinomio de Hermite de grado 20"
   ]
  },
  {
   "cell_type": "code",
   "execution_count": 25,
   "metadata": {},
   "outputs": [
    {
     "data": {
      "text/plain": [
       "array([-5.38748089, -4.60368245, -3.94476404, -3.34785457, -2.78880606,\n",
       "       -2.254974  , -1.73853771, -1.23407622, -0.73747373, -0.24534071,\n",
       "        0.24534071,  0.73747373,  1.23407622,  1.73853771,  2.254974  ,\n",
       "        2.78880606,  3.34785457,  3.94476404,  4.60368245,  5.38748089])"
      ]
     },
     "execution_count": 25,
     "metadata": {},
     "output_type": "execute_result"
    }
   ],
   "source": [
    "cuadraturas.GetAllRootsGHer(20)"
   ]
  },
  {
   "cell_type": "markdown",
   "metadata": {},
   "source": [
    "b)"
   ]
  },
  {
   "cell_type": "code",
   "execution_count": 26,
   "metadata": {},
   "outputs": [],
   "source": [
    "def funcion(x):\n",
    "    p = 0.5*(1/np.pi**0.5)*4*x**2\n",
    "    return p*x**2"
   ]
  },
  {
   "cell_type": "code",
   "execution_count": 27,
   "metadata": {},
   "outputs": [],
   "source": [
    "roots = cuadraturas.GetAllRootsGHer(5) #raiz de poly hermite grado 5\n",
    "weights = cuadraturas.GetWeightsGHer(5) #peso de poly hermite grado 5"
   ]
  },
  {
   "cell_type": "code",
   "execution_count": 28,
   "metadata": {},
   "outputs": [
    {
     "data": {
      "text/plain": [
       "1.4999999999999796"
      ]
     },
     "execution_count": 28,
     "metadata": {},
     "output_type": "execute_result"
    }
   ],
   "source": [
    "np.sum(weights*funcion(roots))"
   ]
  },
  {
   "cell_type": "markdown",
   "metadata": {},
   "source": [
    "### **Ejercicio 19**"
   ]
  },
  {
   "cell_type": "markdown",
   "metadata": {},
   "source": [
    "a)"
   ]
  },
  {
   "cell_type": "code",
   "execution_count": 29,
   "metadata": {},
   "outputs": [],
   "source": [
    "def funcion(T,banda):\n",
    "    argumento = np.sqrt(x**2+banda**2)\n",
    "    numerador = 0.5*np.tanh(argumento)*300/(2*T)\n",
    "    denominador = argumento\n",
    "    return numerador/denominador"
   ]
  },
  {
   "cell_type": "markdown",
   "metadata": {},
   "source": [
    "b)"
   ]
  },
  {
   "cell_type": "code",
   "execution_count": 30,
   "metadata": {},
   "outputs": [],
   "source": [
    "n = 50\n",
    "Roots, Weights = np.polynomial.legendre.leggauss(n)"
   ]
  },
  {
   "cell_type": "markdown",
   "metadata": {},
   "source": [
    "c)"
   ]
  },
  {
   "cell_type": "code",
   "execution_count": 31,
   "metadata": {},
   "outputs": [],
   "source": [
    "T = np.linspace(1,20,190000)"
   ]
  },
  {
   "cell_type": "markdown",
   "metadata": {},
   "source": [
    "d)"
   ]
  },
  {
   "cell_type": "code",
   "execution_count": 32,
   "metadata": {},
   "outputs": [
    {
     "ename": "SyntaxError",
     "evalue": "unexpected EOF while parsing (<ipython-input-32-0f2572f93dbe>, line 1)",
     "output_type": "error",
     "traceback": [
      "\u001b[1;36m  File \u001b[1;32m\"<ipython-input-32-0f2572f93dbe>\"\u001b[1;36m, line \u001b[1;32m1\u001b[0m\n\u001b[1;33m    if np.abs(I-1/0.3)< 1e-4:\u001b[0m\n\u001b[1;37m                             ^\u001b[0m\n\u001b[1;31mSyntaxError\u001b[0m\u001b[1;31m:\u001b[0m unexpected EOF while parsing\n"
     ]
    }
   ],
   "source": [
    "if np.abs(I-1/0.3)< 1e-4:"
   ]
  }
 ],
 "metadata": {
  "kernelspec": {
   "display_name": "Python 3",
   "language": "python",
   "name": "python3"
  },
  "language_info": {
   "codemirror_mode": {
    "name": "ipython",
    "version": 3
   },
   "file_extension": ".py",
   "mimetype": "text/x-python",
   "name": "python",
   "nbconvert_exporter": "python",
   "pygments_lexer": "ipython3",
   "version": "3.7.6"
  }
 },
 "nbformat": 4,
 "nbformat_minor": 4
}
