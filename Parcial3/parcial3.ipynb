{
 "cells": [
  {
   "cell_type": "code",
   "execution_count": 2,
   "metadata": {},
   "outputs": [],
   "source": [
    "import numpy as np\n",
    "import matplotlib.pyplot as plt\n",
    "import sympy as sym"
   ]
  },
  {
   "cell_type": "markdown",
   "metadata": {},
   "source": [
    "# **Punto 22**"
   ]
  },
  {
   "cell_type": "markdown",
   "metadata": {},
   "source": [
    "a) Esta en la carpeta del preparcial."
   ]
  },
  {
   "cell_type": "markdown",
   "metadata": {},
   "source": [
    "b)"
   ]
  },
  {
   "cell_type": "code",
   "execution_count": 3,
   "metadata": {},
   "outputs": [],
   "source": [
    "x = sym.Symbol('x',real=True)\n",
    "y = sym.Symbol('y',real=True)"
   ]
  },
  {
   "cell_type": "code",
   "execution_count": 6,
   "metadata": {},
   "outputs": [],
   "source": [
    "def f(x,y):\n",
    "    C = 729/10000\n",
    "    z = x + sym.I*y\n",
    "    f = sym.sin(z)**6 + C*sym.sin(z)**2 - C\n",
    "    f = f.expand()\n",
    "    return sym.re(f),sym.im(f)"
   ]
  },
  {
   "cell_type": "code",
   "execution_count": 9,
   "metadata": {},
   "outputs": [
    {
     "data": {
      "text/plain": [
       "[sin(x)**6*cosh(y)**6 - 15*sin(x)**4*cos(x)**2*sinh(y)**2*cosh(y)**4 + 15*sin(x)**2*cos(x)**4*sinh(y)**4*cosh(y)**2 + 0.0729*sin(x)**2*cosh(y)**2 - cos(x)**6*sinh(y)**6 - 0.0729*cos(x)**2*sinh(y)**2 - 0.0729,\n",
       " 6*sin(x)**5*cos(x)*sinh(y)*cosh(y)**5 - 20*sin(x)**3*cos(x)**3*sinh(y)**3*cosh(y)**3 + 6*sin(x)*cos(x)**5*sinh(y)**5*cosh(y) + 0.1458*sin(x)*cos(x)*sinh(y)*cosh(y)]"
      ]
     },
     "execution_count": 9,
     "metadata": {},
     "output_type": "execute_result"
    }
   ],
   "source": [
    "f0,f1 = f(x,y)\n",
    "F = [f0,f1]\n",
    "F"
   ]
  },
  {
   "cell_type": "code",
   "execution_count": 10,
   "metadata": {},
   "outputs": [
    {
     "data": {
      "text/latex": [
       "$\\displaystyle \\left[\\begin{matrix}30 \\sin^{5}{\\left(x \\right)} \\cos{\\left(x \\right)} \\sinh^{2}{\\left(y \\right)} \\cosh^{4}{\\left(y \\right)} + 6 \\sin^{5}{\\left(x \\right)} \\cos{\\left(x \\right)} \\cosh^{6}{\\left(y \\right)} - 60 \\sin^{3}{\\left(x \\right)} \\cos^{3}{\\left(x \\right)} \\sinh^{4}{\\left(y \\right)} \\cosh^{2}{\\left(y \\right)} - 60 \\sin^{3}{\\left(x \\right)} \\cos^{3}{\\left(x \\right)} \\sinh^{2}{\\left(y \\right)} \\cosh^{4}{\\left(y \\right)} + 6 \\sin{\\left(x \\right)} \\cos^{5}{\\left(x \\right)} \\sinh^{6}{\\left(y \\right)} + 30 \\sin{\\left(x \\right)} \\cos^{5}{\\left(x \\right)} \\sinh^{4}{\\left(y \\right)} \\cosh^{2}{\\left(y \\right)} + 0.1458 \\sin{\\left(x \\right)} \\cos{\\left(x \\right)} \\sinh^{2}{\\left(y \\right)} + 0.1458 \\sin{\\left(x \\right)} \\cos{\\left(x \\right)} \\cosh^{2}{\\left(y \\right)} & 6 \\sin^{6}{\\left(x \\right)} \\sinh{\\left(y \\right)} \\cosh^{5}{\\left(y \\right)} - 60 \\sin^{4}{\\left(x \\right)} \\cos^{2}{\\left(x \\right)} \\sinh^{3}{\\left(y \\right)} \\cosh^{3}{\\left(y \\right)} - 30 \\sin^{4}{\\left(x \\right)} \\cos^{2}{\\left(x \\right)} \\sinh{\\left(y \\right)} \\cosh^{5}{\\left(y \\right)} + 30 \\sin^{2}{\\left(x \\right)} \\cos^{4}{\\left(x \\right)} \\sinh^{5}{\\left(y \\right)} \\cosh{\\left(y \\right)} + 60 \\sin^{2}{\\left(x \\right)} \\cos^{4}{\\left(x \\right)} \\sinh^{3}{\\left(y \\right)} \\cosh^{3}{\\left(y \\right)} + 0.1458 \\sin^{2}{\\left(x \\right)} \\sinh{\\left(y \\right)} \\cosh{\\left(y \\right)} - 6 \\cos^{6}{\\left(x \\right)} \\sinh^{5}{\\left(y \\right)} \\cosh{\\left(y \\right)} - 0.1458 \\cos^{2}{\\left(x \\right)} \\sinh{\\left(y \\right)} \\cosh{\\left(y \\right)}\\\\- 6 \\sin^{6}{\\left(x \\right)} \\sinh{\\left(y \\right)} \\cosh^{5}{\\left(y \\right)} + 60 \\sin^{4}{\\left(x \\right)} \\cos^{2}{\\left(x \\right)} \\sinh^{3}{\\left(y \\right)} \\cosh^{3}{\\left(y \\right)} + 30 \\sin^{4}{\\left(x \\right)} \\cos^{2}{\\left(x \\right)} \\sinh{\\left(y \\right)} \\cosh^{5}{\\left(y \\right)} - 30 \\sin^{2}{\\left(x \\right)} \\cos^{4}{\\left(x \\right)} \\sinh^{5}{\\left(y \\right)} \\cosh{\\left(y \\right)} - 60 \\sin^{2}{\\left(x \\right)} \\cos^{4}{\\left(x \\right)} \\sinh^{3}{\\left(y \\right)} \\cosh^{3}{\\left(y \\right)} - 0.1458 \\sin^{2}{\\left(x \\right)} \\sinh{\\left(y \\right)} \\cosh{\\left(y \\right)} + 6 \\cos^{6}{\\left(x \\right)} \\sinh^{5}{\\left(y \\right)} \\cosh{\\left(y \\right)} + 0.1458 \\cos^{2}{\\left(x \\right)} \\sinh{\\left(y \\right)} \\cosh{\\left(y \\right)} & 30 \\sin^{5}{\\left(x \\right)} \\cos{\\left(x \\right)} \\sinh^{2}{\\left(y \\right)} \\cosh^{4}{\\left(y \\right)} + 6 \\sin^{5}{\\left(x \\right)} \\cos{\\left(x \\right)} \\cosh^{6}{\\left(y \\right)} - 60 \\sin^{3}{\\left(x \\right)} \\cos^{3}{\\left(x \\right)} \\sinh^{4}{\\left(y \\right)} \\cosh^{2}{\\left(y \\right)} - 60 \\sin^{3}{\\left(x \\right)} \\cos^{3}{\\left(x \\right)} \\sinh^{2}{\\left(y \\right)} \\cosh^{4}{\\left(y \\right)} + 6 \\sin{\\left(x \\right)} \\cos^{5}{\\left(x \\right)} \\sinh^{6}{\\left(y \\right)} + 30 \\sin{\\left(x \\right)} \\cos^{5}{\\left(x \\right)} \\sinh^{4}{\\left(y \\right)} \\cosh^{2}{\\left(y \\right)} + 0.1458 \\sin{\\left(x \\right)} \\cos{\\left(x \\right)} \\sinh^{2}{\\left(y \\right)} + 0.1458 \\sin{\\left(x \\right)} \\cos{\\left(x \\right)} \\cosh^{2}{\\left(y \\right)}\\end{matrix}\\right]$"
      ],
      "text/plain": [
       "Matrix([\n",
       "[     30*sin(x)**5*cos(x)*sinh(y)**2*cosh(y)**4 + 6*sin(x)**5*cos(x)*cosh(y)**6 - 60*sin(x)**3*cos(x)**3*sinh(y)**4*cosh(y)**2 - 60*sin(x)**3*cos(x)**3*sinh(y)**2*cosh(y)**4 + 6*sin(x)*cos(x)**5*sinh(y)**6 + 30*sin(x)*cos(x)**5*sinh(y)**4*cosh(y)**2 + 0.1458*sin(x)*cos(x)*sinh(y)**2 + 0.1458*sin(x)*cos(x)*cosh(y)**2, 6*sin(x)**6*sinh(y)*cosh(y)**5 - 60*sin(x)**4*cos(x)**2*sinh(y)**3*cosh(y)**3 - 30*sin(x)**4*cos(x)**2*sinh(y)*cosh(y)**5 + 30*sin(x)**2*cos(x)**4*sinh(y)**5*cosh(y) + 60*sin(x)**2*cos(x)**4*sinh(y)**3*cosh(y)**3 + 0.1458*sin(x)**2*sinh(y)*cosh(y) - 6*cos(x)**6*sinh(y)**5*cosh(y) - 0.1458*cos(x)**2*sinh(y)*cosh(y)],\n",
       "[-6*sin(x)**6*sinh(y)*cosh(y)**5 + 60*sin(x)**4*cos(x)**2*sinh(y)**3*cosh(y)**3 + 30*sin(x)**4*cos(x)**2*sinh(y)*cosh(y)**5 - 30*sin(x)**2*cos(x)**4*sinh(y)**5*cosh(y) - 60*sin(x)**2*cos(x)**4*sinh(y)**3*cosh(y)**3 - 0.1458*sin(x)**2*sinh(y)*cosh(y) + 6*cos(x)**6*sinh(y)**5*cosh(y) + 0.1458*cos(x)**2*sinh(y)*cosh(y),     30*sin(x)**5*cos(x)*sinh(y)**2*cosh(y)**4 + 6*sin(x)**5*cos(x)*cosh(y)**6 - 60*sin(x)**3*cos(x)**3*sinh(y)**4*cosh(y)**2 - 60*sin(x)**3*cos(x)**3*sinh(y)**2*cosh(y)**4 + 6*sin(x)*cos(x)**5*sinh(y)**6 + 30*sin(x)*cos(x)**5*sinh(y)**4*cosh(y)**2 + 0.1458*sin(x)*cos(x)*sinh(y)**2 + 0.1458*sin(x)*cos(x)*cosh(y)**2]])"
      ]
     },
     "execution_count": 10,
     "metadata": {},
     "output_type": "execute_result"
    }
   ],
   "source": [
    "J = sym.zeros(2,2)\n",
    "\n",
    "for i in range(2):\n",
    "    for j in range(2):\n",
    "        if j==0:\n",
    "            J[i,j] = sym.diff(F[i],x,1)\n",
    "        else:\n",
    "            J[i,j] = sym.diff(F[i],y,1)\n",
    "\n",
    "J"
   ]
  },
  {
   "cell_type": "code",
   "execution_count": 52,
   "metadata": {},
   "outputs": [],
   "source": [
    "InvJ = J.inv(method='LU')"
   ]
  },
  {
   "cell_type": "code",
   "execution_count": 12,
   "metadata": {},
   "outputs": [],
   "source": [
    "Fn = sym.lambdify([x,y],F,'numpy')\n",
    "IJn = sym.lambdify([x,y],InvJ,'numpy')\n"
   ]
  },
  {
   "cell_type": "code",
   "execution_count": 18,
   "metadata": {},
   "outputs": [],
   "source": [
    "def NewtonRaphson(z,Fn,Jn,itmax=100,precision=1e-9):\n",
    "    \n",
    "    error = 1\n",
    "    it = 0\n",
    "    \n",
    "    while error > precision and it < itmax:\n",
    "        \n",
    "        IFn = Fn(z[0],z[1])\n",
    "        IJn = Jn(z[0],z[1])\n",
    "        \n",
    "        z1 = z - np.dot(IJn,IFn)\n",
    "        \n",
    "        error = np.max( np.abs(z1-z) )\n",
    "        \n",
    "        z = z1\n",
    "        it +=1\n",
    "    print(f\"iteraciones: {it}\")\n",
    "    return z"
   ]
  },
  {
   "cell_type": "code",
   "execution_count": 149,
   "metadata": {},
   "outputs": [],
   "source": [
    "raices = np.array([[1,-2],[3,5],[1,0],[0.1,0.2],[8,-0.05],[3,-1]])"
   ]
  },
  {
   "cell_type": "code",
   "execution_count": 152,
   "metadata": {},
   "outputs": [
    {
     "name": "stdout",
     "output_type": "stream",
     "text": [
      "iteraciones: 23\n",
      "iteraciones: 38\n",
      "iteraciones: 6\n",
      "iteraciones: 15\n",
      "iteraciones: 100\n",
      "iteraciones: 11\n"
     ]
    }
   ],
   "source": [
    "#Alejandro me dijo que podia inicializar la variable \"soluciones\" como una lista\n",
    "soluciones= []\n",
    "for raiz in raices:\n",
    "    soluciones.append(NewtonRaphson(raiz,Fn,IJn))"
   ]
  },
  {
   "cell_type": "code",
   "execution_count": 151,
   "metadata": {},
   "outputs": [
    {
     "data": {
      "text/plain": [
       "[array([0.32175055, 0.56161549]),\n",
       " array([2.8198421 , 0.56161549]),\n",
       " array([0.64350111, 0.        ]),\n",
       " array([6.43501109e-01, 2.74909315e-19]),\n",
       " array([1.7562854 , 1.90813378]),\n",
       " array([ 2.8198421 , -0.56161549])]"
      ]
     },
     "execution_count": 151,
     "metadata": {},
     "output_type": "execute_result"
    }
   ],
   "source": [
    "soluciones"
   ]
  },
  {
   "cell_type": "markdown",
   "metadata": {},
   "source": [
    "Raices reales:"
   ]
  },
  {
   "cell_type": "code",
   "execution_count": 153,
   "metadata": {},
   "outputs": [
    {
     "name": "stdout",
     "output_type": "stream",
     "text": [
      "[0.64350111 0.        ]\n",
      "[6.43501109e-01 2.74909315e-19]\n"
     ]
    }
   ],
   "source": [
    "print(soluciones[2])\n",
    "print(soluciones[3])"
   ]
  },
  {
   "cell_type": "markdown",
   "metadata": {},
   "source": [
    "c)"
   ]
  },
  {
   "cell_type": "markdown",
   "metadata": {},
   "source": [
    "El angulo del equilibrio satisface: \n",
    "\n",
    "$sin(x)^6+Csin(x)^2-C=0$\n",
    "\n",
    "Corroboramos con el primer vector"
   ]
  },
  {
   "cell_type": "code",
   "execution_count": 154,
   "metadata": {},
   "outputs": [
    {
     "data": {
      "text/plain": [
       "[-1.3877787807814457e-17, 3.122502256758253e-17]"
      ]
     },
     "execution_count": 154,
     "metadata": {},
     "output_type": "execute_result"
    }
   ],
   "source": [
    "Fn(soluciones[0][0],soluciones[0][1])"
   ]
  },
  {
   "cell_type": "markdown",
   "metadata": {},
   "source": [
    "El seno del angulo en equilibrio:"
   ]
  },
  {
   "cell_type": "code",
   "execution_count": 157,
   "metadata": {},
   "outputs": [
    {
     "data": {
      "text/plain": [
       "0.6000000000000001"
      ]
     },
     "execution_count": 157,
     "metadata": {},
     "output_type": "execute_result"
    }
   ],
   "source": [
    "np.sin(soluciones[2][0])"
   ]
  },
  {
   "cell_type": "markdown",
   "metadata": {},
   "source": [
    "----"
   ]
  },
  {
   "cell_type": "markdown",
   "metadata": {},
   "source": [
    "# **Punto 23**"
   ]
  },
  {
   "cell_type": "markdown",
   "metadata": {},
   "source": [
    "a)"
   ]
  },
  {
   "cell_type": "code",
   "execution_count": 68,
   "metadata": {},
   "outputs": [],
   "source": [
    "A = np.array([\n",
    "    [0.2,0.1,1.0,1.0,0.],\n",
    "    [0.1,4.0,-1.0,1.0,-1.0],\n",
    "    [1.0,-1.0,60.0,0.0,-2.0],\n",
    "    [1.0,1.0,0.0,8.0,4.0],\n",
    "    [0.,-1.,-2.0,4.0,700.0]\n",
    "]\n",
    ")\n",
    "\n",
    "b = np.array([1,2,3,4,5])"
   ]
  },
  {
   "cell_type": "code",
   "execution_count": 69,
   "metadata": {},
   "outputs": [
    {
     "data": {
      "text/latex": [
       "$\\displaystyle \\left[\\begin{matrix}0.2 & 0.1 & 1.0 & 1.0 & 0.0\\\\0.1 & 4.0 & -1.0 & 1.0 & -1.0\\\\1.0 & -1.0 & 60.0 & 0.0 & -2.0\\\\1.0 & 1.0 & 0.0 & 8.0 & 4.0\\\\0.0 & -1.0 & -2.0 & 4.0 & 700.0\\end{matrix}\\right]$"
      ],
      "text/plain": [
       "Matrix([\n",
       "[0.2,  0.1,  1.0, 1.0,   0.0],\n",
       "[0.1,  4.0, -1.0, 1.0,  -1.0],\n",
       "[1.0, -1.0, 60.0, 0.0,  -2.0],\n",
       "[1.0,  1.0,  0.0, 8.0,   4.0],\n",
       "[0.0, -1.0, -2.0, 4.0, 700.0]])"
      ]
     },
     "execution_count": 69,
     "metadata": {},
     "output_type": "execute_result"
    }
   ],
   "source": [
    "sym.Matrix(A)"
   ]
  },
  {
   "cell_type": "markdown",
   "metadata": {},
   "source": [
    "b)"
   ]
  },
  {
   "cell_type": "code",
   "execution_count": 75,
   "metadata": {},
   "outputs": [],
   "source": [
    "def algoritmo(A,b,x0,epsilon =0.01,maxit = 1000):\n",
    "    ro = A@x0-b\n",
    "    po = -ro\n",
    "    k = 0\n",
    "    \n",
    "    ak = 0\n",
    "    xk = x0\n",
    "    rk = ro\n",
    "    bk = 0\n",
    "    pk = po\n",
    "    norma = 1\n",
    "    while norma > epsilon and k<maxit:\n",
    "        ak = -(np.dot(rk,pk))/(np.dot(pk,A@pk))\n",
    "        xk = xk +ak*pk\n",
    "        rk =A@xk-b\n",
    "        bk = (np.dot(rk,A@pk))/(np.dot(pk,A@pk))\n",
    "        pk = -rk+bk*pk\n",
    "        k+=1\n",
    "        norma= np.max(np.abs(rk))\n",
    "        \n",
    "    return xk,k,norma"
   ]
  },
  {
   "cell_type": "markdown",
   "metadata": {},
   "source": [
    "c)"
   ]
  },
  {
   "cell_type": "markdown",
   "metadata": {},
   "source": [
    "Pruebo con el vector [0,0,0,0,0]"
   ]
  },
  {
   "cell_type": "code",
   "execution_count": 87,
   "metadata": {},
   "outputs": [],
   "source": [
    "x0 = np.array([0,0,0,0,0])"
   ]
  },
  {
   "cell_type": "code",
   "execution_count": 88,
   "metadata": {},
   "outputs": [
    {
     "data": {
      "text/plain": [
       "(array([ 7.85971308,  0.42292641, -0.07359224, -0.54064302,  0.01062616]),\n",
       " 5,\n",
       " 7.013122313992426e-07)"
      ]
     },
     "execution_count": 88,
     "metadata": {},
     "output_type": "execute_result"
    }
   ],
   "source": [
    "algoritmo(A,b,x0)"
   ]
  },
  {
   "cell_type": "code",
   "execution_count": 82,
   "metadata": {},
   "outputs": [],
   "source": [
    "solucion = algoritmo(A,b,x0)[0]\n",
    "iteraciones = algoritmo(A,b,x0)[1]\n",
    "norma = algoritmo(A,b,x0)[2]"
   ]
  },
  {
   "cell_type": "code",
   "execution_count": 83,
   "metadata": {},
   "outputs": [
    {
     "name": "stdout",
     "output_type": "stream",
     "text": [
      "El vector solucion es: [ 7.85971308  0.42292641 -0.07359224 -0.54064302  0.01062616]\n",
      "El numero de iteraciones es: 5\n",
      "Norma en la quinta iteracion: 7.013122313992426e-07\n"
     ]
    }
   ],
   "source": [
    "print(f\"El vector solucion es: {solucion}\")\n",
    "print(f\"El numero de iteraciones es: {iteraciones}\")\n",
    "print(f\"Norma en la quinta iteracion: {norma}\")"
   ]
  },
  {
   "cell_type": "markdown",
   "metadata": {},
   "source": [
    "Ahora pruebo con otro vector: [10,-100,1000,-1,1000]"
   ]
  },
  {
   "cell_type": "code",
   "execution_count": 89,
   "metadata": {},
   "outputs": [],
   "source": [
    "x0 = np.array([10,-100,1000,-1,1000])"
   ]
  },
  {
   "cell_type": "code",
   "execution_count": 90,
   "metadata": {},
   "outputs": [],
   "source": [
    "solucion = algoritmo(A,b,x0)[0]\n",
    "iteraciones = algoritmo(A,b,x0)[1]\n",
    "norma = algoritmo(A,b,x0)[2]"
   ]
  },
  {
   "cell_type": "code",
   "execution_count": 91,
   "metadata": {},
   "outputs": [
    {
     "name": "stdout",
     "output_type": "stream",
     "text": [
      "El vector solucion es: [ 7.85971302  0.42292642 -0.07359222 -0.54064305  0.01061842]\n",
      "El numero de iteraciones es: 5\n",
      "Norma en la quinta iteracion: 0.005422207576229354\n"
     ]
    }
   ],
   "source": [
    "print(f\"El vector solucion es: {solucion}\")\n",
    "print(f\"El numero de iteraciones es: {iteraciones}\")\n",
    "print(f\"Norma en la quinta iteracion: {norma}\")"
   ]
  },
  {
   "cell_type": "markdown",
   "metadata": {},
   "source": [
    "---"
   ]
  },
  {
   "cell_type": "markdown",
   "metadata": {},
   "source": [
    "La solucion que arroja https://matrixcalc.org/slu.html:"
   ]
  },
  {
   "cell_type": "code",
   "execution_count": 84,
   "metadata": {},
   "outputs": [
    {
     "data": {
      "text/plain": [
       "array([ 7.85971308,  0.42292641, -0.07359224, -0.54064302,  0.01062616])"
      ]
     },
     "execution_count": 84,
     "metadata": {},
     "output_type": "execute_result"
    }
   ],
   "source": [
    "np.array([7358845/936274,395975/936274,-137805/1872548,-253095/468137,9949/936274])"
   ]
  },
  {
   "cell_type": "markdown",
   "metadata": {},
   "source": [
    "d)"
   ]
  },
  {
   "cell_type": "markdown",
   "metadata": {},
   "source": [
    "$$h'(\\alpha) = r_k \\cdot(x_k+\\alpha r_k) = (-Ax-b)\\cdot \\phi ' (x_k+\\alpha r_k)$$"
   ]
  },
  {
   "cell_type": "markdown",
   "metadata": {},
   "source": [
    "falto terminar"
   ]
  }
 ],
 "metadata": {
  "kernelspec": {
   "display_name": "Python 3",
   "language": "python",
   "name": "python3"
  },
  "language_info": {
   "codemirror_mode": {
    "name": "ipython",
    "version": 3
   },
   "file_extension": ".py",
   "mimetype": "text/x-python",
   "name": "python",
   "nbconvert_exporter": "python",
   "pygments_lexer": "ipython3",
   "version": "3.7.6"
  }
 },
 "nbformat": 4,
 "nbformat_minor": 4
}
