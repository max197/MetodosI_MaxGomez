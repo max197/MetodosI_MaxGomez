{
 "cells": [
  {
   "cell_type": "code",
   "execution_count": 57,
   "metadata": {},
   "outputs": [],
   "source": [
    "import numpy as np\n",
    "import scipy.optimize as spo\n",
    "import math\n",
    "import matplotlib.pyplot as plt\n",
    "from itertools import combinations_with_replacement\n",
    "from itertools import permutations\n",
    "import sympy as sym"
   ]
  },
  {
   "cell_type": "markdown",
   "metadata": {},
   "source": [
    "Optimizacion:\n",
    "* 2✓\n",
    "* 3\n",
    "\n",
    "Generales de probabilidad:\n",
    "* 4✓\n",
    "* 8✓\n",
    "\n",
    "Distribuciones continuas de probabilidad\n",
    "\n",
    "* 1✓\n",
    "\n",
    "Hidden Markov Models:\n",
    "\n",
    "* 1✓\n",
    "\n",
    "Minimos Cuadrados:\n",
    "\n",
    "* 1b\n",
    "* 7\n",
    "\n",
    "Parameter Estimation: \n",
    "* 1\n"
   ]
  },
  {
   "cell_type": "markdown",
   "metadata": {},
   "source": [
    "# **Distribuciones continuas de probabilidad**"
   ]
  },
  {
   "cell_type": "markdown",
   "metadata": {},
   "source": [
    "## 1)"
   ]
  },
  {
   "cell_type": "markdown",
   "metadata": {},
   "source": [
    "**a) Verificar si f(x,y) es una funcion de densidad**"
   ]
  },
  {
   "cell_type": "code",
   "execution_count": 64,
   "metadata": {},
   "outputs": [],
   "source": [
    "x = sym.Symbol(\"x\",real=True)\n",
    "y = sym.Symbol(\"y\",real=True)"
   ]
  },
  {
   "cell_type": "code",
   "execution_count": 66,
   "metadata": {},
   "outputs": [],
   "source": [
    "f = (2/3)*(x+2*y)"
   ]
  },
  {
   "cell_type": "code",
   "execution_count": 76,
   "metadata": {},
   "outputs": [
    {
     "data": {
      "text/latex": [
       "$\\displaystyle 1.0$"
      ],
      "text/plain": [
       "1.00000000000000"
      ]
     },
     "execution_count": 76,
     "metadata": {},
     "output_type": "execute_result"
    }
   ],
   "source": [
    "#f(x,y) es una funcion de densidad porque integra a 1 y es positiva en todo su soporte\n",
    "res = sym.integrate(f, (y, 0, 1), (x, 0, 1))\n",
    "res"
   ]
  },
  {
   "cell_type": "markdown",
   "metadata": {},
   "source": [
    "**b) Distribuciones marginales:**"
   ]
  },
  {
   "cell_type": "code",
   "execution_count": 72,
   "metadata": {},
   "outputs": [
    {
     "data": {
      "text/latex": [
       "$\\displaystyle 0.666666666666667 x + 0.666666666666667$"
      ],
      "text/plain": [
       "0.666666666666667*x + 0.666666666666667"
      ]
     },
     "execution_count": 72,
     "metadata": {},
     "output_type": "execute_result"
    }
   ],
   "source": [
    "#g(x)\n",
    "g= sym.integrate(f,(y,0,1))\n",
    "g"
   ]
  },
  {
   "cell_type": "code",
   "execution_count": 73,
   "metadata": {},
   "outputs": [
    {
     "data": {
      "text/latex": [
       "$\\displaystyle 1.33333333333333 y + 0.333333333333333$"
      ],
      "text/plain": [
       "1.33333333333333*y + 0.333333333333333"
      ]
     },
     "execution_count": 73,
     "metadata": {},
     "output_type": "execute_result"
    }
   ],
   "source": [
    "#h(y)\n",
    "h = sym.integrate(f,(x,0,1))\n",
    "h"
   ]
  },
  {
   "cell_type": "markdown",
   "metadata": {},
   "source": [
    "**c) E(x)**"
   ]
  },
  {
   "cell_type": "code",
   "execution_count": 93,
   "metadata": {},
   "outputs": [
    {
     "data": {
      "text/latex": [
       "$\\displaystyle 0.555555555555556$"
      ],
      "text/plain": [
       "0.555555555555556"
      ]
     },
     "execution_count": 93,
     "metadata": {},
     "output_type": "execute_result"
    }
   ],
   "source": [
    "Ex = sym.integrate(g*x,(x,0,1))\n",
    "Ex"
   ]
  },
  {
   "cell_type": "markdown",
   "metadata": {},
   "source": [
    "**d) E(y)**"
   ]
  },
  {
   "cell_type": "code",
   "execution_count": 92,
   "metadata": {},
   "outputs": [
    {
     "data": {
      "text/latex": [
       "$\\displaystyle 0.611111111111111$"
      ],
      "text/plain": [
       "0.611111111111111"
      ]
     },
     "execution_count": 92,
     "metadata": {},
     "output_type": "execute_result"
    }
   ],
   "source": [
    "Ey = sym.integrate(h*y,(y,0,1))\n",
    "Ey"
   ]
  },
  {
   "cell_type": "markdown",
   "metadata": {},
   "source": [
    "**e) $\\sigma_{xy}$**"
   ]
  },
  {
   "cell_type": "code",
   "execution_count": 87,
   "metadata": {},
   "outputs": [
    {
     "data": {
      "text/latex": [
       "$\\displaystyle -0.00617283950617281$"
      ],
      "text/plain": [
       "-0.00617283950617281"
      ]
     },
     "execution_count": 87,
     "metadata": {},
     "output_type": "execute_result"
    }
   ],
   "source": [
    "res = sym.integrate(f*x*y, (y, 0, 1), (x, 0, 1)) - sym.integrate(h*y,(y,0,1))*sym.integrate(g*x,(x,0,1))\n",
    "res"
   ]
  },
  {
   "cell_type": "markdown",
   "metadata": {},
   "source": [
    "**d) $\\sigma_{xy}$**"
   ]
  },
  {
   "cell_type": "code",
   "execution_count": 101,
   "metadata": {},
   "outputs": [
    {
     "data": {
      "text/latex": [
       "$\\displaystyle -0.00617283950617285$"
      ],
      "text/plain": [
       "-0.00617283950617285"
      ]
     },
     "execution_count": 101,
     "metadata": {},
     "output_type": "execute_result"
    }
   ],
   "source": [
    "sym.integrate(f*(x-Ex)*(y-Ey),(y, 0, 1), (x, 0, 1))"
   ]
  },
  {
   "cell_type": "markdown",
   "metadata": {},
   "source": [
    "**f) Son independientes X y Y?**"
   ]
  },
  {
   "cell_type": "code",
   "execution_count": 102,
   "metadata": {},
   "outputs": [
    {
     "data": {
      "text/latex": [
       "$\\displaystyle 0.666666666666667 x + 1.33333333333333 y$"
      ],
      "text/plain": [
       "0.666666666666667*x + 1.33333333333333*y"
      ]
     },
     "execution_count": 102,
     "metadata": {},
     "output_type": "execute_result"
    }
   ],
   "source": [
    "f"
   ]
  },
  {
   "cell_type": "code",
   "execution_count": 94,
   "metadata": {},
   "outputs": [
    {
     "data": {
      "text/latex": [
       "$\\displaystyle \\left(0.666666666666667 x + 0.666666666666667\\right) \\left(1.33333333333333 y + 0.333333333333333\\right)$"
      ],
      "text/plain": [
       "(0.666666666666667*x + 0.666666666666667)*(1.33333333333333*y + 0.333333333333333)"
      ]
     },
     "execution_count": 94,
     "metadata": {},
     "output_type": "execute_result"
    }
   ],
   "source": [
    "g*h"
   ]
  },
  {
   "cell_type": "markdown",
   "metadata": {},
   "source": [
    "X y Y **no** son independientes porque $f(x,y)\\neq g(x)\\cdot h(y)$"
   ]
  },
  {
   "cell_type": "markdown",
   "metadata": {},
   "source": [
    "# **Optimizacion**"
   ]
  },
  {
   "cell_type": "markdown",
   "metadata": {},
   "source": [
    "## 2)"
   ]
  },
  {
   "cell_type": "code",
   "execution_count": 29,
   "metadata": {},
   "outputs": [],
   "source": [
    "def f(p):\n",
    "    return p[0]**2+p[1]**2+p[2]**2-2*p[2]+1"
   ]
  },
  {
   "cell_type": "code",
   "execution_count": 28,
   "metadata": {},
   "outputs": [
    {
     "data": {
      "text/plain": [
       "     fun: 0.20000000000216844\n",
       "     jac: array([-0.26666896,  0.53333158, -0.66666715])\n",
       " message: 'Optimization terminated successfully.'\n",
       "    nfev: 22\n",
       "     nit: 4\n",
       "    njev: 4\n",
       "  status: 0\n",
       " success: True\n",
       "       x: array([-0.13333449,  0.26666578,  0.66666642])"
      ]
     },
     "execution_count": 28,
     "metadata": {},
     "output_type": "execute_result"
    }
   ],
   "source": [
    "constraints = ( {'type':'eq','fun': lambda p: 2*p[0] -4*p[1] + 5*p[2] - 2} )\n",
    "\n",
    "p0 = [1,1,1]\n",
    "result = spo.minimize( f, p0, constraints = constraints )\n",
    "result"
   ]
  },
  {
   "cell_type": "markdown",
   "metadata": {},
   "source": [
    "## 3)"
   ]
  },
  {
   "cell_type": "markdown",
   "metadata": {},
   "source": [
    "----"
   ]
  },
  {
   "cell_type": "markdown",
   "metadata": {},
   "source": [
    "# **Generales de probabilidad**"
   ]
  },
  {
   "cell_type": "markdown",
   "metadata": {},
   "source": [
    "## 4)"
   ]
  },
  {
   "cell_type": "markdown",
   "metadata": {},
   "source": [
    "Calcular la probabilidad de que n personas, con $n\\leq 365$ tengan fechas diferentes de cumpleaños"
   ]
  },
  {
   "cell_type": "code",
   "execution_count": 11,
   "metadata": {},
   "outputs": [],
   "source": [
    "#suponemos que no hay años bisiestos\n",
    "def p_cumpleaños(n,bound=365):\n",
    "    #espacio muestral: por cada persona tenemos 365 posibilidades de dias de cumpleaños. \n",
    "    #entonces el espacio muestral consiste de n-tuplas donde cada entrada es un numero entre 1 y 365\n",
    "    S = bound**n\n",
    "    \n",
    "    #Si todos los cumpleaños son distintos, entonces estamos considerando n-tuplas cuyas entradas no se repiten\n",
    "    ns = math.factorial(bound)/math.factorial(bound-n)\n",
    "\n",
    "    return np.round(ns/S,4)\n",
    "    "
   ]
  },
  {
   "cell_type": "code",
   "execution_count": 37,
   "metadata": {},
   "outputs": [
    {
     "data": {
      "text/plain": [
       "<matplotlib.collections.PathCollection at 0x1c4b8eb3908>"
      ]
     },
     "execution_count": 37,
     "metadata": {},
     "output_type": "execute_result"
    },
    {
     "data": {
      "image/png": "[encoded data removed]",
      "text/plain": [
       "<Figure size 720x360 with 1 Axes>"
      ]
     },
     "metadata": {
      "needs_background": "light"
     },
     "output_type": "display_data"
    }
   ],
   "source": [
    "fig, ax = plt.subplots(figsize=(10,5))\n",
    "\n",
    "n = np.arange(1,81,1)\n",
    "probs = np.array([p_cumpleaños(i) for i in range(1,81)])\n",
    "\n",
    "ax.set_title(\"Probabilidad de que n personas tengan fechas distintas de cumpleaños\")\n",
    "ax.set_xlabel(\"Numero personas (n)\")\n",
    "ax.set_ylim(-.1,1.1)\n",
    "\n",
    "ax.scatter(n,probs)"
   ]
  },
  {
   "cell_type": "markdown",
   "metadata": {},
   "source": [
    "## 8)"
   ]
  },
  {
   "cell_type": "code",
   "execution_count": 60,
   "metadata": {},
   "outputs": [],
   "source": [
    "N = 100000\n",
    "m1 = np.random.binomial(1,0.5,size=N)\n",
    "m1[m1 == 0] = -1\n",
    "m2 = np.random.binomial(1,0.5,size=N) \n",
    "m2[m2 == 0] = -1\n",
    "m3 = np.random.binomial(1,0.5,size=N) \n",
    "m3[m3 == 0] = -1\n",
    "m4 = np.random.binomial(1,0.5,size=N) \n",
    "m4[m4 == 0] = -1\n",
    "\n",
    "result_tuples = [(m1[i], m2[i], m3[i], m4[i]) for i in range(len(m1))]"
   ]
  },
  {
   "cell_type": "code",
   "execution_count": 67,
   "metadata": {},
   "outputs": [
    {
     "name": "stdout",
     "output_type": "stream",
     "text": [
      "La probabilidad de obtener 2 caras y 2 sellos es aprox: 0.37533\n"
     ]
    }
   ],
   "source": [
    "counter = 0 \n",
    "for e in result_tuples:\n",
    "    if sum(e) == 0:\n",
    "        counter+=1\n",
    "\n",
    "print(f\"La probabilidad de obtener 2 caras y 2 sellos es aprox: {counter/N}\")"
   ]
  },
  {
   "cell_type": "markdown",
   "metadata": {},
   "source": [
    "---"
   ]
  },
  {
   "cell_type": "markdown",
   "metadata": {},
   "source": [
    "# **Hidden Markov Models**"
   ]
  },
  {
   "cell_type": "code",
   "execution_count": 53,
   "metadata": {},
   "outputs": [],
   "source": [
    "T = np.array([\n",
    "    [.8,.2],\n",
    "    [.2,.8]\n",
    "])\n",
    "\n",
    "E = np.array([\n",
    "    [.5,.9],\n",
    "    [.5,.1]\n",
    "])\n",
    "\n",
    "Prior = np.array([.2,.8])\n",
    "\n",
    "States = np.array([0,1]) # Deben ser enteros "
   ]
  },
  {
   "cell_type": "code",
   "execution_count": 43,
   "metadata": {},
   "outputs": [],
   "source": [
    "def GetStates(States,N):\n",
    "    \n",
    "    CStates = list( combinations_with_replacement(States,N) )\n",
    "    \n",
    "    Permu = []\n",
    "    \n",
    "    for it in CStates:\n",
    "        p = list(permutations(it,N))\n",
    "       # print(p)\n",
    "        \n",
    "        for i in p:\n",
    "            if i not in Permu:\n",
    "                Permu.append(i)\n",
    "                \n",
    "    return np.array(Permu)"
   ]
  },
  {
   "cell_type": "code",
   "execution_count": 44,
   "metadata": {},
   "outputs": [],
   "source": [
    "HiddenStates = GetStates(States,8)"
   ]
  },
  {
   "cell_type": "code",
   "execution_count": 45,
   "metadata": {},
   "outputs": [],
   "source": [
    "def GetProb(T,E,Obs,State,Prior):\n",
    "    \n",
    "    n = len(Obs)\n",
    "    p = 1.\n",
    "    \n",
    "    p *= Prior[State[1]]\n",
    "    \n",
    "    # Matriz de transicion\n",
    "    for i in range(n-1):\n",
    "        p *= T[ State[i+1], State[i]  ]\n",
    "        \n",
    "    for i in range(n):\n",
    "        p *= E[ Obs[i], State[i] ]\n",
    "        \n",
    "    return p"
   ]
  },
  {
   "cell_type": "code",
   "execution_count": 46,
   "metadata": {},
   "outputs": [],
   "source": [
    "#Observamos [S,C,C,C,S,C,S,C]\n",
    "Obs = np.array([1,0,0,0,1,0,1,0])\n",
    "\n",
    "P = np.zeros(HiddenStates.shape[0], dtype=np.float64)\n",
    "\n",
    "for i in range(P.shape[0]):\n",
    "    P[i] = GetProb(T,E,Obs,HiddenStates[i],Prior)\n",
    "    "
   ]
  },
  {
   "cell_type": "code",
   "execution_count": 54,
   "metadata": {},
   "outputs": [
    {
     "name": "stdout",
     "output_type": "stream",
     "text": [
      "El estado oculto mas probable [[0 1 1 1 0 0 0 0]], donde 0 = Justa, 1=Sesgada\n",
      "La probabilidad del estado oculto mas probable es aprox: 0.0002\n"
     ]
    }
   ],
   "source": [
    "ii = np.where( P == np.amax(P))\n",
    "print(f\"El estado oculto mas probable {HiddenStates[ii]}, donde 0 = Justa, 1=Sesgada\")\n",
    "print(f\"La probabilidad del estado oculto mas probable es aprox: {np.round(np.amax(P),4)}\")"
   ]
  },
  {
   "cell_type": "code",
   "execution_count": 55,
   "metadata": {},
   "outputs": [
    {
     "data": {
      "image/png": "[encoded data removed]",
      "text/plain": [
       "<Figure size 432x288 with 1 Axes>"
      ]
     },
     "metadata": {
      "needs_background": "light"
     },
     "output_type": "display_data"
    }
   ],
   "source": [
    "plt.plot(P, color='black',label = \"Probabilidad por secuencia\")\n",
    "plt.axhline(y=np.amax(P), color='r', linestyle='-',label=f\"MaxP = {np.round(np.amax(P),4)}\")\n",
    "plt.suptitle(\"Probabilidad por secuencia oculta para el estado [S,C,C,C,S,C,S,C]\")\n",
    "plt.legend(loc = \"upper right\")\n",
    "plt.grid()"
   ]
  },
  {
   "cell_type": "markdown",
   "metadata": {},
   "source": [
    "b) Verificar que $\\sum P_o = 1$:"
   ]
  },
  {
   "cell_type": "code",
   "execution_count": 35,
   "metadata": {},
   "outputs": [],
   "source": [
    "#todas las posibles observaciones\n",
    "ObsStates = GetStates([0,1],8)\n",
    "\n",
    "Nobs = ObsStates.shape[0]\n",
    "PObs = np.zeros(Nobs)\n",
    "\n",
    "for j in range(Nobs):\n",
    "    \n",
    "    dim = HiddenStates.shape[0]\n",
    "    P = np.zeros(dim)\n",
    "    \n",
    "    for i in range(dim):\n",
    "        P[i] = GetProb(T,E,ObsStates[j],HiddenStates[i],Prior)\n",
    "        \n",
    "    PObs[j] = np.sum(P)"
   ]
  },
  {
   "cell_type": "code",
   "execution_count": 38,
   "metadata": {},
   "outputs": [
    {
     "data": {
      "text/plain": [
       "1.0000000000000007"
      ]
     },
     "execution_count": 38,
     "metadata": {},
     "output_type": "execute_result"
    }
   ],
   "source": [
    "#Suma de probabilidades de los estados observables\n",
    "np.sum(PObs)"
   ]
  }
 ],
 "metadata": {
  "kernelspec": {
   "display_name": "Python 3",
   "language": "python",
   "name": "python3"
  },
  "language_info": {
   "codemirror_mode": {
    "name": "ipython",
    "version": 3
   },
   "file_extension": ".py",
   "mimetype": "text/x-python",
   "name": "python",
   "nbconvert_exporter": "python",
   "pygments_lexer": "ipython3",
   "version": "3.7.6"
  }
 },
 "nbformat": 4,
 "nbformat_minor": 4
}
