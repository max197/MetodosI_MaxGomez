{
 "cells": [
  {
   "cell_type": "code",
   "execution_count": 222,
   "metadata": {},
   "outputs": [],
   "source": [
    "import numpy as np\n",
    "import matplotlib.pyplot as plt\n",
    "import sympy as sym"
   ]
  },
  {
   "cell_type": "code",
   "execution_count": 223,
   "metadata": {},
   "outputs": [],
   "source": [
    "def funcion(x):\n",
    "    return np.exp(-x)-x\n",
    "    "
   ]
  },
  {
   "cell_type": "code",
   "execution_count": 224,
   "metadata": {},
   "outputs": [],
   "source": [
    "X = np.array([0.5,0.6,0.7])\n",
    "Y = funcion(X)"
   ]
  },
  {
   "cell_type": "code",
   "execution_count": 225,
   "metadata": {},
   "outputs": [
    {
     "data": {
      "text/plain": [
       "array([[ 0.10653066,  0.        ,  0.        ],\n",
       "       [-0.05118836, -0.15771902,  0.        ],\n",
       "       [-0.2034147 , -0.15222633,  0.00549269]])"
      ]
     },
     "execution_count": 225,
     "metadata": {},
     "output_type": "execute_result"
    }
   ],
   "source": [
    "Diff = np.zeros(( X.shape[0],Y.shape[0] ))\n",
    "Diff[:,0] = Y\n",
    "\n",
    "\n",
    "for i in range(1,len(X)):\n",
    "    for j in range(i,len(X)):\n",
    "        Diff[j,i] = Diff[j,i-1] - Diff[j-1,i-1] \n",
    "\n",
    "Diff"
   ]
  },
  {
   "cell_type": "code",
   "execution_count": 226,
   "metadata": {},
   "outputs": [],
   "source": [
    "def InterpolacionNewton(X,Y,x):\n",
    "    \n",
    "    sum_ = Y[0]\n",
    "    \n",
    "    Diff = np.zeros(( X.shape[0],Y.shape[0] ))\n",
    "    h = X[1]-X[0]\n",
    "    \n",
    "    Diff[:,0] = Y\n",
    "\n",
    "    poly = 1.\n",
    "    \n",
    "    for i in range(1,len(X)):\n",
    "        \n",
    "        poly *= (x-X[i-1])\n",
    "        \n",
    "        for j in range(i,len(X)):\n",
    "            \n",
    "            Diff[j,i] = Diff[j,i-1] - Diff[j-1,i-1] \n",
    "    \n",
    "        sum_ += poly*Diff[i,i]/(np.math.factorial(i)*h**(i))\n",
    "        \n",
    "    return sum_"
   ]
  },
  {
   "cell_type": "code",
   "execution_count": 227,
   "metadata": {},
   "outputs": [],
   "source": [
    "xt = np.linspace(np.min(X),np.max(X),100)\n",
    "yt = []\n",
    "\n",
    "for x in xt:\n",
    "    yt.append(InterpolacionNewton(X,Y,x))"
   ]
  },
  {
   "cell_type": "code",
   "execution_count": 228,
   "metadata": {},
   "outputs": [
    {
     "data": {
      "text/plain": [
       "[<matplotlib.lines.Line2D at 0x1bf047b4408>]"
      ]
     },
     "execution_count": 228,
     "metadata": {},
     "output_type": "execute_result"
    },
    {
     "data": {
      "image/png": "[encoded data removed]",
      "text/plain": [
       "<Figure size 432x288 with 1 Axes>"
      ]
     },
     "metadata": {
      "needs_background": "light"
     },
     "output_type": "display_data"
    }
   ],
   "source": [
    "plt.scatter(X,Y,color='r')\n",
    "plt.plot(xt,yt)"
   ]
  },
  {
   "cell_type": "code",
   "execution_count": 229,
   "metadata": {},
   "outputs": [
    {
     "data": {
      "text/latex": [
       "$\\displaystyle 0.275321724560097 x^{2} - 1.88286377426816 x + 0.979414079813288$"
      ],
      "text/plain": [
       "0.275321724560097*x**2 - 1.88286377426816*x + 0.979414079813288"
      ]
     },
     "execution_count": 229,
     "metadata": {},
     "output_type": "execute_result"
    }
   ],
   "source": [
    "_x = sym.Symbol('x',real=True)\n",
    "f = InterpolacionNewton(X,Y,_x)\n",
    "f = sym.simplify(y)\n",
    "f"
   ]
  },
  {
   "cell_type": "code",
   "execution_count": 230,
   "metadata": {},
   "outputs": [],
   "source": [
    "df = sym.diff(f,_x,1)\n",
    "d2f = sym.diff(f,_x,2)/2"
   ]
  },
  {
   "cell_type": "code",
   "execution_count": 231,
   "metadata": {},
   "outputs": [],
   "source": [
    "def encontrar_x3(f):\n",
    "    _d2f = sym.lambdify([_x],d2f,'numpy') \n",
    "    a = _d2f(0)\n",
    "    _df = sym.lambdify([_x],df,'numpy') \n",
    "    b = _df(0)\n",
    "    _f = sym.lambdify([_x],f,'numpy') \n",
    "    c = _f(0)\n",
    "    \n",
    "    #print(f\"a:{a}\")\n",
    "    #print(f\"b:{b}\")\n",
    "    #print(f\"c:{c}\")\n",
    "    \n",
    "    if b<0:\n",
    "        x_3 = (-2*c)/(b-np.sqrt(b**2-4*a*c))\n",
    "        _f(x_3)\n",
    "        return x_3,_f(x_3)\n",
    "        #(-2*c)/(b-np.sqrt(b**2-4*a*c)),_f()\n",
    "    if b>=0:\n",
    "        x_3 = (-2*c)/(b+np.sqrt(b**2-4*a*c))\n",
    "        _f(x_3)\n",
    "        return x_3,_f(x_3)\n",
    "        \n",
    "    print(\"no deberia entrar aca\")\n",
    "    return (-2*c)/(b+np.sqrt(b**2-4*a*c)),(-2*c)/(b-np.sqrt(b**2-4*a*c))\n",
    "\n",
    "    "
   ]
  },
  {
   "cell_type": "code",
   "execution_count": 232,
   "metadata": {},
   "outputs": [
    {
     "name": "stdout",
     "output_type": "stream",
     "text": [
      "La raiz es\n"
     ]
    },
    {
     "data": {
      "text/plain": [
       "0.5672185331491784"
      ]
     },
     "execution_count": 232,
     "metadata": {},
     "output_type": "execute_result"
    }
   ],
   "source": [
    "print(\"La raiz es\")\n",
    "encontrar_x3(f)[0]"
   ]
  },
  {
   "cell_type": "code",
   "execution_count": 233,
   "metadata": {},
   "outputs": [
    {
     "data": {
      "text/plain": [
       "0.0"
      ]
     },
     "execution_count": 233,
     "metadata": {},
     "output_type": "execute_result"
    }
   ],
   "source": [
    "encontrar_x3(f)[1]"
   ]
  },
  {
   "cell_type": "code",
   "execution_count": 219,
   "metadata": {},
   "outputs": [
    {
     "name": "stdout",
     "output_type": "stream",
     "text": [
      "0.0 0.7\n"
     ]
    }
   ],
   "source": [
    "epsilon = 1\n",
    "X = np.array([0.4,0.6,0.8])\n",
    "Y = funcion(X)\n",
    "x_0 = X[0]\n",
    "x_1 = X[1]\n",
    "x_2 = X[2]\n",
    "it = 0\n",
    "error= 1\n",
    "while error>1e-10 or it<100:\n",
    "      \n",
    "    _x = sym.Symbol('x',real=True)\n",
    "    f = InterpolacionNewton(X,Y,_x)\n",
    "    f = sym.simplify(y)\n",
    "    df = sym.diff(f,_x,1)\n",
    "    d2f = sym.diff(f,_x,2)/2\n",
    "    f_raiz = encontrar_x3(f)[1]\n",
    "    x_raiz =encontrar_x3(f)[0]\n",
    "    \n",
    "    error = np.abs(f_raiz)\n",
    "    it+=1\n",
    "    x_2 = (x_0+x_1)/2\n",
    "    X = np.array([x_0,x_2,x_1])\n",
    "    Y = funcion(X)\n",
    "    \n",
    "print(f_raiz,x)\n",
    "    "
   ]
  }
 ],
 "metadata": {
  "kernelspec": {
   "display_name": "Python 3",
   "language": "python",
   "name": "python3"
  },
  "language_info": {
   "codemirror_mode": {
    "name": "ipython",
    "version": 3
   },
   "file_extension": ".py",
   "mimetype": "text/x-python",
   "name": "python",
   "nbconvert_exporter": "python",
   "pygments_lexer": "ipython3",
   "version": "3.7.6"
  }
 },
 "nbformat": 4,
 "nbformat_minor": 4
}
